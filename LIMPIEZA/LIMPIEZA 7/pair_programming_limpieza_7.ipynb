{
 "cells": [
  {
   "cell_type": "code",
   "execution_count": 41,
   "metadata": {},
   "outputs": [],
   "source": [
    "import pandas as pd\n",
    "import seaborn as sns\n",
    "import matplotlib.pyplot as plt\n",
    "import numpy as np\n",
    "import re\n",
    "import math \n",
    "from scipy import stats\n",
    "from sklearn.preprocessing import MinMaxScaler\n",
    "pd.options.display.max_columns = None"
   ]
  },
  {
   "cell_type": "code",
   "execution_count": 17,
   "metadata": {},
   "outputs": [
    {
     "data": {
      "text/html": [
       "<div>\n",
       "<style scoped>\n",
       "    .dataframe tbody tr th:only-of-type {\n",
       "        vertical-align: middle;\n",
       "    }\n",
       "\n",
       "    .dataframe tbody tr th {\n",
       "        vertical-align: top;\n",
       "    }\n",
       "\n",
       "    .dataframe thead th {\n",
       "        text-align: right;\n",
       "    }\n",
       "</style>\n",
       "<table border=\"1\" class=\"dataframe\">\n",
       "  <thead>\n",
       "    <tr style=\"text-align: right;\">\n",
       "      <th></th>\n",
       "      <th>case_number</th>\n",
       "      <th>year</th>\n",
       "      <th>type</th>\n",
       "      <th>country</th>\n",
       "      <th>area</th>\n",
       "      <th>location</th>\n",
       "      <th>activity</th>\n",
       "      <th>name</th>\n",
       "      <th>sex_</th>\n",
       "      <th>age</th>\n",
       "      <th>time</th>\n",
       "      <th>species_</th>\n",
       "      <th>href</th>\n",
       "      <th>fatal_(y/n)</th>\n",
       "      <th>injury</th>\n",
       "      <th>date</th>\n",
       "      <th>age_new</th>\n",
       "    </tr>\n",
       "  </thead>\n",
       "  <tbody>\n",
       "    <tr>\n",
       "      <th>5348</th>\n",
       "      <td>1924.01.29</td>\n",
       "      <td>1924</td>\n",
       "      <td>Unprovoked</td>\n",
       "      <td>south africa</td>\n",
       "      <td>KwaZulu-Natal</td>\n",
       "      <td>South Beach, Durban</td>\n",
       "      <td>Swimming</td>\n",
       "      <td>Johannes Karl  Schultz</td>\n",
       "      <td>M</td>\n",
       "      <td>22</td>\n",
       "      <td>15h15</td>\n",
       "      <td>NaN</td>\n",
       "      <td>http://sharkattackfile.net/spreadsheets/pdf_di...</td>\n",
       "      <td>Y</td>\n",
       "      <td>FATAL</td>\n",
       "      <td>29-Jan-1924</td>\n",
       "      <td>22.0</td>\n",
       "    </tr>\n",
       "    <tr>\n",
       "      <th>3495</th>\n",
       "      <td>1972.04.16</td>\n",
       "      <td>1972</td>\n",
       "      <td>Unprovoked</td>\n",
       "      <td>western samoa</td>\n",
       "      <td>Upolu Island</td>\n",
       "      <td>Nuulua</td>\n",
       "      <td>Swimming</td>\n",
       "      <td>Alan Banner,  Peace Corps volunteer</td>\n",
       "      <td>M</td>\n",
       "      <td>25</td>\n",
       "      <td>NaN</td>\n",
       "      <td>Thought to involve a tiger shark</td>\n",
       "      <td>http://sharkattackfile.net/spreadsheets/pdf_di...</td>\n",
       "      <td>Y</td>\n",
       "      <td>FATAL</td>\n",
       "      <td>16-Apr-1972</td>\n",
       "      <td>25.0</td>\n",
       "    </tr>\n",
       "    <tr>\n",
       "      <th>678</th>\n",
       "      <td>2014.08.27.c</td>\n",
       "      <td>2014</td>\n",
       "      <td>Unprovoked</td>\n",
       "      <td>spain</td>\n",
       "      <td>Alicante</td>\n",
       "      <td>Benidorm</td>\n",
       "      <td>Swimming</td>\n",
       "      <td>Raquel Martin</td>\n",
       "      <td>F</td>\n",
       "      <td>30s</td>\n",
       "      <td>NaN</td>\n",
       "      <td>small shark</td>\n",
       "      <td>http://sharkattackfile.net/spreadsheets/pdf_di...</td>\n",
       "      <td>N</td>\n",
       "      <td>Minor lacerations to posterior lower leg</td>\n",
       "      <td>27-Aug-2014</td>\n",
       "      <td>30.0</td>\n",
       "    </tr>\n",
       "    <tr>\n",
       "      <th>814</th>\n",
       "      <td>2013.07.29.b</td>\n",
       "      <td>2013</td>\n",
       "      <td>Unprovoked</td>\n",
       "      <td>mexico</td>\n",
       "      <td>Quintana Roo</td>\n",
       "      <td>NaN</td>\n",
       "      <td>Wading</td>\n",
       "      <td>Bonnie Davis</td>\n",
       "      <td>F</td>\n",
       "      <td>NaN</td>\n",
       "      <td>11h00</td>\n",
       "      <td>NaN</td>\n",
       "      <td>http://sharkattackfile.net/spreadsheets/pdf_di...</td>\n",
       "      <td>N</td>\n",
       "      <td>Hip bitten</td>\n",
       "      <td>29-Jul-2013</td>\n",
       "      <td>NaN</td>\n",
       "    </tr>\n",
       "    <tr>\n",
       "      <th>5362</th>\n",
       "      <td>1923.05.23.R</td>\n",
       "      <td>1923</td>\n",
       "      <td>Unprovoked</td>\n",
       "      <td>australia</td>\n",
       "      <td>Western Australia</td>\n",
       "      <td>Southgates, near Geraldton</td>\n",
       "      <td>Wading</td>\n",
       "      <td>Percy Evensen</td>\n",
       "      <td>M</td>\n",
       "      <td>NaN</td>\n",
       "      <td>NaN</td>\n",
       "      <td>NaN</td>\n",
       "      <td>http://sharkattackfile.net/spreadsheets/pdf_di...</td>\n",
       "      <td>N</td>\n",
       "      <td>Minor puncture wounds to foot</td>\n",
       "      <td>Reported 23-May-1923</td>\n",
       "      <td>NaN</td>\n",
       "    </tr>\n",
       "  </tbody>\n",
       "</table>\n",
       "</div>"
      ],
      "text/plain": [
       "       case_number  year        type        country               area  \\\n",
       "5348    1924.01.29  1924  Unprovoked   south africa      KwaZulu-Natal   \n",
       "3495    1972.04.16  1972  Unprovoked  western samoa       Upolu Island   \n",
       "678   2014.08.27.c  2014  Unprovoked          spain           Alicante   \n",
       "814   2013.07.29.b  2013  Unprovoked         mexico       Quintana Roo   \n",
       "5362  1923.05.23.R  1923  Unprovoked      australia  Western Australia   \n",
       "\n",
       "                        location  activity  \\\n",
       "5348         South Beach, Durban  Swimming   \n",
       "3495                     Nuulua  Swimming   \n",
       "678                     Benidorm  Swimming   \n",
       "814                          NaN    Wading   \n",
       "5362  Southgates, near Geraldton    Wading   \n",
       "\n",
       "                                     name sex_  age   time  \\\n",
       "5348               Johannes Karl  Schultz    M   22  15h15   \n",
       "3495  Alan Banner,  Peace Corps volunteer    M   25    NaN   \n",
       "678                         Raquel Martin    F  30s    NaN   \n",
       "814                          Bonnie Davis    F  NaN  11h00   \n",
       "5362                        Percy Evensen    M  NaN    NaN   \n",
       "\n",
       "                              species_  \\\n",
       "5348                               NaN   \n",
       "3495  Thought to involve a tiger shark   \n",
       "678                        small shark   \n",
       "814                                NaN   \n",
       "5362                               NaN   \n",
       "\n",
       "                                                   href fatal_(y/n)  \\\n",
       "5348  http://sharkattackfile.net/spreadsheets/pdf_di...           Y   \n",
       "3495  http://sharkattackfile.net/spreadsheets/pdf_di...           Y   \n",
       "678   http://sharkattackfile.net/spreadsheets/pdf_di...           N   \n",
       "814   http://sharkattackfile.net/spreadsheets/pdf_di...           N   \n",
       "5362  http://sharkattackfile.net/spreadsheets/pdf_di...           N   \n",
       "\n",
       "                                        injury                  date  age_new  \n",
       "5348                                     FATAL           29-Jan-1924     22.0  \n",
       "3495                                     FATAL           16-Apr-1972     25.0  \n",
       "678   Minor lacerations to posterior lower leg           27-Aug-2014     30.0  \n",
       "814                                 Hip bitten           29-Jul-2013      NaN  \n",
       "5362             Minor puncture wounds to foot  Reported 23-May-1923      NaN  "
      ]
     },
     "execution_count": 17,
     "metadata": {},
     "output_type": "execute_result"
    }
   ],
   "source": [
    "df = pd.read_csv(\"attacks_limpieza_2.csv\", index_col = 0)\n",
    "df.sample(5)"
   ]
  },
  {
   "cell_type": "code",
   "execution_count": 19,
   "metadata": {},
   "outputs": [
    {
     "data": {
      "text/plain": [
       "array([nan, 14., 19., 20., 15., 21., 27., 36., 25.,  6., 16., 50., 13.,\n",
       "       57., 11., 48., 18., 52., 12., 32., 10., 34., 30., 60., 33., 29.,\n",
       "       54., 41., 37., 56., 69., 38., 55., 35., 46., 45., 40., 28., 24.,\n",
       "       26., 49., 22.,  7., 31., 17., 42.,  3.,  8., 82., 73., 68., 51.,\n",
       "       39., 58., 47., 61., 65., 66., 43.,  9., 72., 59., 64., 23., 71.,\n",
       "       44., 62., 63., 70., 53., 77., 74.,  5., 86., 84., 75., 87., 67.,\n",
       "        1.,  2., 81., 78.])"
      ]
     },
     "execution_count": 19,
     "metadata": {},
     "output_type": "execute_result"
    }
   ],
   "source": [
    "df['age_new'].unique()"
   ]
  },
  {
   "cell_type": "markdown",
   "metadata": {},
   "source": [
    "### Ejercicio 1:\n",
    "Podríais explicar en pocas palabras ¿Qué es lo que hace exactamente el método boxcox de normalización de datos?"
   ]
  },
  {
   "cell_type": "markdown",
   "metadata": {},
   "source": [
    "<font color ='orange'>Un boxcox es un tipo de transformación para corregir sesgos en la distribución de errores, varianzas desiguales y mejorar la correlación entre las variables."
   ]
  },
  {
   "cell_type": "markdown",
   "metadata": {},
   "source": [
    "### Ejercicio 2:\n",
    "Normalizad los datos de la columna age. Utilizad los métodos aprendidos y explicad las diferencias entre cada uno de ellos. Para cada transformación que hagáis cread una columna nueva."
   ]
  },
  {
   "cell_type": "markdown",
   "metadata": {},
   "source": [
    "<font color ='orange'> Manualmente:"
   ]
  },
  {
   "cell_type": "code",
   "execution_count": 20,
   "metadata": {},
   "outputs": [
    {
     "data": {
      "text/html": [
       "<div>\n",
       "<style scoped>\n",
       "    .dataframe tbody tr th:only-of-type {\n",
       "        vertical-align: middle;\n",
       "    }\n",
       "\n",
       "    .dataframe tbody tr th {\n",
       "        vertical-align: top;\n",
       "    }\n",
       "\n",
       "    .dataframe thead th {\n",
       "        text-align: right;\n",
       "    }\n",
       "</style>\n",
       "<table border=\"1\" class=\"dataframe\">\n",
       "  <thead>\n",
       "    <tr style=\"text-align: right;\">\n",
       "      <th></th>\n",
       "      <th>year</th>\n",
       "      <th>age_new</th>\n",
       "    </tr>\n",
       "  </thead>\n",
       "  <tbody>\n",
       "    <tr>\n",
       "      <th>0</th>\n",
       "      <td>1800</td>\n",
       "      <td>NaN</td>\n",
       "    </tr>\n",
       "    <tr>\n",
       "      <th>1</th>\n",
       "      <td>1797</td>\n",
       "      <td>NaN</td>\n",
       "    </tr>\n",
       "    <tr>\n",
       "      <th>2</th>\n",
       "      <td>1792</td>\n",
       "      <td>NaN</td>\n",
       "    </tr>\n",
       "    <tr>\n",
       "      <th>3</th>\n",
       "      <td>1791</td>\n",
       "      <td>NaN</td>\n",
       "    </tr>\n",
       "    <tr>\n",
       "      <th>4</th>\n",
       "      <td>1788</td>\n",
       "      <td>NaN</td>\n",
       "    </tr>\n",
       "  </tbody>\n",
       "</table>\n",
       "</div>"
      ],
      "text/plain": [
       "   year  age_new\n",
       "0  1800      NaN\n",
       "1  1797      NaN\n",
       "2  1792      NaN\n",
       "3  1791      NaN\n",
       "4  1788      NaN"
      ]
     },
     "execution_count": 20,
     "metadata": {},
     "output_type": "execute_result"
    }
   ],
   "source": [
    "numericas = df.select_dtypes(include = np.number)\n",
    "numericas.head()"
   ]
  },
  {
   "cell_type": "code",
   "execution_count": 21,
   "metadata": {},
   "outputs": [],
   "source": [
    "media = numericas[\"age_new\"].mean()\n",
    "maximo = numericas[\"age_new\"].max() \n",
    "minimo = numericas[\"age_new\"].min()"
   ]
  },
  {
   "cell_type": "code",
   "execution_count": null,
   "metadata": {},
   "outputs": [],
   "source": [
    "numericas[\"age_NORM\"] = (numericas[\"age_new\"] - media) / (maximo - minimo )"
   ]
  },
  {
   "cell_type": "code",
   "execution_count": 25,
   "metadata": {},
   "outputs": [
    {
     "data": {
      "text/html": [
       "<div>\n",
       "<style scoped>\n",
       "    .dataframe tbody tr th:only-of-type {\n",
       "        vertical-align: middle;\n",
       "    }\n",
       "\n",
       "    .dataframe tbody tr th {\n",
       "        vertical-align: top;\n",
       "    }\n",
       "\n",
       "    .dataframe thead th {\n",
       "        text-align: right;\n",
       "    }\n",
       "</style>\n",
       "<table border=\"1\" class=\"dataframe\">\n",
       "  <thead>\n",
       "    <tr style=\"text-align: right;\">\n",
       "      <th></th>\n",
       "      <th>year</th>\n",
       "      <th>age_new</th>\n",
       "      <th>age_NORM</th>\n",
       "    </tr>\n",
       "  </thead>\n",
       "  <tbody>\n",
       "    <tr>\n",
       "      <th>2268</th>\n",
       "      <td>1999</td>\n",
       "      <td>28.0</td>\n",
       "      <td>0.008515</td>\n",
       "    </tr>\n",
       "    <tr>\n",
       "      <th>3017</th>\n",
       "      <td>1985</td>\n",
       "      <td>39.0</td>\n",
       "      <td>0.136422</td>\n",
       "    </tr>\n",
       "    <tr>\n",
       "      <th>459</th>\n",
       "      <td>2016</td>\n",
       "      <td>34.0</td>\n",
       "      <td>0.078283</td>\n",
       "    </tr>\n",
       "    <tr>\n",
       "      <th>2487</th>\n",
       "      <td>1996</td>\n",
       "      <td>NaN</td>\n",
       "      <td>NaN</td>\n",
       "    </tr>\n",
       "    <tr>\n",
       "      <th>2818</th>\n",
       "      <td>1989</td>\n",
       "      <td>31.0</td>\n",
       "      <td>0.043399</td>\n",
       "    </tr>\n",
       "  </tbody>\n",
       "</table>\n",
       "</div>"
      ],
      "text/plain": [
       "      year  age_new  age_NORM\n",
       "2268  1999     28.0  0.008515\n",
       "3017  1985     39.0  0.136422\n",
       "459   2016     34.0  0.078283\n",
       "2487  1996      NaN       NaN\n",
       "2818  1989     31.0  0.043399"
      ]
     },
     "execution_count": 25,
     "metadata": {},
     "output_type": "execute_result"
    }
   ],
   "source": [
    "numericas.sample(5)"
   ]
  },
  {
   "cell_type": "code",
   "execution_count": 26,
   "metadata": {},
   "outputs": [
    {
     "name": "stderr",
     "output_type": "stream",
     "text": [
      "/home/adalaber/Descargas/yes/lib/python3.9/site-packages/seaborn/distributions.py:2619: FutureWarning: `distplot` is a deprecated function and will be removed in a future version. Please adapt your code to use either `displot` (a figure-level function with similar flexibility) or `histplot` (an axes-level function for histograms).\n",
      "  warnings.warn(msg, FutureWarning)\n",
      "/home/adalaber/Descargas/yes/lib/python3.9/site-packages/seaborn/distributions.py:2619: FutureWarning: `distplot` is a deprecated function and will be removed in a future version. Please adapt your code to use either `displot` (a figure-level function with similar flexibility) or `histplot` (an axes-level function for histograms).\n",
      "  warnings.warn(msg, FutureWarning)\n"
     ]
    },
    {
     "data": {
      "image/png": "[encoded data removed]",
      "text/plain": [
       "<Figure size 1080x360 with 2 Axes>"
      ]
     },
     "metadata": {
      "needs_background": "light"
     },
     "output_type": "display_data"
    }
   ],
   "source": [
    "fig, axes = plt.subplots(1, 2, figsize = (15,5))\n",
    "\n",
    "axes[0].set_title('Age original')\n",
    "axes[1].set_title('Age normalizado')\n",
    "\n",
    "sns.distplot(numericas['age_new'] ,ax = axes[0])\n",
    "sns.distplot(numericas['age_NORM'], ax = axes[1]);"
   ]
  },
  {
   "cell_type": "markdown",
   "metadata": {},
   "source": [
    "<font color ='orange'> Logarítmica:"
   ]
  },
  {
   "cell_type": "code",
   "execution_count": 27,
   "metadata": {},
   "outputs": [
    {
     "name": "stderr",
     "output_type": "stream",
     "text": [
      "/tmp/ipykernel_5760/2153539485.py:1: SettingWithCopyWarning: \n",
      "A value is trying to be set on a copy of a slice from a DataFrame.\n",
      "Try using .loc[row_indexer,col_indexer] = value instead\n",
      "\n",
      "See the caveats in the documentation: https://pandas.pydata.org/pandas-docs/stable/user_guide/indexing.html#returning-a-view-versus-a-copy\n",
      "  numericas['age_NORM_log'] = numericas['age_new'].apply(lambda x: np.log(x) if x != 0 else 0)\n"
     ]
    }
   ],
   "source": [
    "numericas['age_NORM_log'] = numericas['age_new'].apply(lambda x: np.log(x) if x != 0 else 0)"
   ]
  },
  {
   "cell_type": "code",
   "execution_count": 28,
   "metadata": {},
   "outputs": [
    {
     "data": {
      "text/html": [
       "<div>\n",
       "<style scoped>\n",
       "    .dataframe tbody tr th:only-of-type {\n",
       "        vertical-align: middle;\n",
       "    }\n",
       "\n",
       "    .dataframe tbody tr th {\n",
       "        vertical-align: top;\n",
       "    }\n",
       "\n",
       "    .dataframe thead th {\n",
       "        text-align: right;\n",
       "    }\n",
       "</style>\n",
       "<table border=\"1\" class=\"dataframe\">\n",
       "  <thead>\n",
       "    <tr style=\"text-align: right;\">\n",
       "      <th></th>\n",
       "      <th>year</th>\n",
       "      <th>age_new</th>\n",
       "      <th>age_NORM</th>\n",
       "      <th>age_NORM_log</th>\n",
       "    </tr>\n",
       "  </thead>\n",
       "  <tbody>\n",
       "    <tr>\n",
       "      <th>1140</th>\n",
       "      <td>2010</td>\n",
       "      <td>NaN</td>\n",
       "      <td>NaN</td>\n",
       "      <td>NaN</td>\n",
       "    </tr>\n",
       "    <tr>\n",
       "      <th>164</th>\n",
       "      <td>0</td>\n",
       "      <td>NaN</td>\n",
       "      <td>NaN</td>\n",
       "      <td>NaN</td>\n",
       "    </tr>\n",
       "    <tr>\n",
       "      <th>5898</th>\n",
       "      <td>1887</td>\n",
       "      <td>NaN</td>\n",
       "      <td>NaN</td>\n",
       "      <td>NaN</td>\n",
       "    </tr>\n",
       "    <tr>\n",
       "      <th>3124</th>\n",
       "      <td>1982</td>\n",
       "      <td>20.0</td>\n",
       "      <td>-0.084508</td>\n",
       "      <td>2.995732</td>\n",
       "    </tr>\n",
       "    <tr>\n",
       "      <th>2212</th>\n",
       "      <td>2000</td>\n",
       "      <td>17.0</td>\n",
       "      <td>-0.119392</td>\n",
       "      <td>2.833213</td>\n",
       "    </tr>\n",
       "  </tbody>\n",
       "</table>\n",
       "</div>"
      ],
      "text/plain": [
       "      year  age_new  age_NORM  age_NORM_log\n",
       "1140  2010      NaN       NaN           NaN\n",
       "164      0      NaN       NaN           NaN\n",
       "5898  1887      NaN       NaN           NaN\n",
       "3124  1982     20.0 -0.084508      2.995732\n",
       "2212  2000     17.0 -0.119392      2.833213"
      ]
     },
     "execution_count": 28,
     "metadata": {},
     "output_type": "execute_result"
    }
   ],
   "source": [
    "numericas.sample(5)"
   ]
  },
  {
   "cell_type": "code",
   "execution_count": 29,
   "metadata": {},
   "outputs": [
    {
     "name": "stderr",
     "output_type": "stream",
     "text": [
      "/home/adalaber/Descargas/yes/lib/python3.9/site-packages/seaborn/distributions.py:2619: FutureWarning: `distplot` is a deprecated function and will be removed in a future version. Please adapt your code to use either `displot` (a figure-level function with similar flexibility) or `histplot` (an axes-level function for histograms).\n",
      "  warnings.warn(msg, FutureWarning)\n",
      "/home/adalaber/Descargas/yes/lib/python3.9/site-packages/seaborn/distributions.py:2619: FutureWarning: `distplot` is a deprecated function and will be removed in a future version. Please adapt your code to use either `displot` (a figure-level function with similar flexibility) or `histplot` (an axes-level function for histograms).\n",
      "  warnings.warn(msg, FutureWarning)\n"
     ]
    },
    {
     "data": {
      "image/png": "[encoded data removed]",
      "text/plain": [
       "<Figure size 1080x360 with 2 Axes>"
      ]
     },
     "metadata": {
      "needs_background": "light"
     },
     "output_type": "display_data"
    }
   ],
   "source": [
    "fig, axes = plt.subplots(1, 2, figsize = (15,5))\n",
    "\n",
    "axes[0].set_title('Age original')\n",
    "axes[1].set_title('Age normalizado')\n",
    "\n",
    "sns.distplot(numericas['age_new'] ,ax = axes[0])\n",
    "sns.distplot(numericas['age_NORM_log'], ax = axes[1]);"
   ]
  },
  {
   "cell_type": "markdown",
   "metadata": {},
   "source": [
    "<font color ='orange'> Raíz cuadrada:"
   ]
  },
  {
   "cell_type": "code",
   "execution_count": 32,
   "metadata": {},
   "outputs": [
    {
     "name": "stderr",
     "output_type": "stream",
     "text": [
      "/tmp/ipykernel_5760/551357159.py:1: SettingWithCopyWarning: \n",
      "A value is trying to be set on a copy of a slice from a DataFrame.\n",
      "Try using .loc[row_indexer,col_indexer] = value instead\n",
      "\n",
      "See the caveats in the documentation: https://pandas.pydata.org/pandas-docs/stable/user_guide/indexing.html#returning-a-view-versus-a-copy\n",
      "  numericas['age_NORM_raiz'] = numericas['age_new'].apply(lambda x: math.sqrt(x));\n"
     ]
    }
   ],
   "source": [
    "numericas['age_NORM_raiz'] = numericas['age_new'].apply(lambda x: math.sqrt(x))"
   ]
  },
  {
   "cell_type": "code",
   "execution_count": 34,
   "metadata": {},
   "outputs": [
    {
     "data": {
      "text/html": [
       "<div>\n",
       "<style scoped>\n",
       "    .dataframe tbody tr th:only-of-type {\n",
       "        vertical-align: middle;\n",
       "    }\n",
       "\n",
       "    .dataframe tbody tr th {\n",
       "        vertical-align: top;\n",
       "    }\n",
       "\n",
       "    .dataframe thead th {\n",
       "        text-align: right;\n",
       "    }\n",
       "</style>\n",
       "<table border=\"1\" class=\"dataframe\">\n",
       "  <thead>\n",
       "    <tr style=\"text-align: right;\">\n",
       "      <th></th>\n",
       "      <th>year</th>\n",
       "      <th>age_new</th>\n",
       "      <th>age_NORM</th>\n",
       "      <th>age_NORM_log</th>\n",
       "      <th>age_NORM_raiz</th>\n",
       "    </tr>\n",
       "  </thead>\n",
       "  <tbody>\n",
       "    <tr>\n",
       "      <th>2377</th>\n",
       "      <td>1997</td>\n",
       "      <td>42.0</td>\n",
       "      <td>0.171306</td>\n",
       "      <td>3.737670</td>\n",
       "      <td>6.480741</td>\n",
       "    </tr>\n",
       "    <tr>\n",
       "      <th>298</th>\n",
       "      <td>2017</td>\n",
       "      <td>14.0</td>\n",
       "      <td>-0.154275</td>\n",
       "      <td>2.639057</td>\n",
       "      <td>3.741657</td>\n",
       "    </tr>\n",
       "    <tr>\n",
       "      <th>3791</th>\n",
       "      <td>1965</td>\n",
       "      <td>17.0</td>\n",
       "      <td>-0.119392</td>\n",
       "      <td>2.833213</td>\n",
       "      <td>4.123106</td>\n",
       "    </tr>\n",
       "    <tr>\n",
       "      <th>4871</th>\n",
       "      <td>1942</td>\n",
       "      <td>NaN</td>\n",
       "      <td>NaN</td>\n",
       "      <td>NaN</td>\n",
       "      <td>NaN</td>\n",
       "    </tr>\n",
       "    <tr>\n",
       "      <th>1171</th>\n",
       "      <td>2010</td>\n",
       "      <td>37.0</td>\n",
       "      <td>0.113166</td>\n",
       "      <td>3.610918</td>\n",
       "      <td>6.082763</td>\n",
       "    </tr>\n",
       "  </tbody>\n",
       "</table>\n",
       "</div>"
      ],
      "text/plain": [
       "      year  age_new  age_NORM  age_NORM_log  age_NORM_raiz\n",
       "2377  1997     42.0  0.171306      3.737670       6.480741\n",
       "298   2017     14.0 -0.154275      2.639057       3.741657\n",
       "3791  1965     17.0 -0.119392      2.833213       4.123106\n",
       "4871  1942      NaN       NaN           NaN            NaN\n",
       "1171  2010     37.0  0.113166      3.610918       6.082763"
      ]
     },
     "execution_count": 34,
     "metadata": {},
     "output_type": "execute_result"
    }
   ],
   "source": [
    "numericas.sample(5)"
   ]
  },
  {
   "cell_type": "code",
   "execution_count": 35,
   "metadata": {},
   "outputs": [
    {
     "name": "stderr",
     "output_type": "stream",
     "text": [
      "/home/adalaber/Descargas/yes/lib/python3.9/site-packages/seaborn/distributions.py:2619: FutureWarning: `distplot` is a deprecated function and will be removed in a future version. Please adapt your code to use either `displot` (a figure-level function with similar flexibility) or `histplot` (an axes-level function for histograms).\n",
      "  warnings.warn(msg, FutureWarning)\n",
      "/home/adalaber/Descargas/yes/lib/python3.9/site-packages/seaborn/distributions.py:2619: FutureWarning: `distplot` is a deprecated function and will be removed in a future version. Please adapt your code to use either `displot` (a figure-level function with similar flexibility) or `histplot` (an axes-level function for histograms).\n",
      "  warnings.warn(msg, FutureWarning)\n"
     ]
    },
    {
     "data": {
      "image/png": "[encoded data removed]",
      "text/plain": [
       "<Figure size 1080x360 with 2 Axes>"
      ]
     },
     "metadata": {
      "needs_background": "light"
     },
     "output_type": "display_data"
    }
   ],
   "source": [
    "fig, axes = plt.subplots(1, 2, figsize = (15,5))\n",
    "\n",
    "axes[0].set_title('Age original')\n",
    "axes[1].set_title('Age normalizado')\n",
    "\n",
    "sns.distplot(numericas['age_new'] ,ax = axes[0])\n",
    "sns.distplot(numericas['age_NORM_raiz'], ax = axes[1]);"
   ]
  },
  {
   "cell_type": "markdown",
   "metadata": {},
   "source": [
    "<font color ='orange'> Stats boxcox:"
   ]
  },
  {
   "cell_type": "code",
   "execution_count": 37,
   "metadata": {},
   "outputs": [
    {
     "name": "stderr",
     "output_type": "stream",
     "text": [
      "/tmp/ipykernel_5760/3567627452.py:1: SettingWithCopyWarning: \n",
      "A value is trying to be set on a copy of a slice from a DataFrame.\n",
      "Try using .loc[row_indexer,col_indexer] = value instead\n",
      "\n",
      "See the caveats in the documentation: https://pandas.pydata.org/pandas-docs/stable/user_guide/indexing.html#returning-a-view-versus-a-copy\n",
      "  numericas['age_NORM_boxcox'], lambda_ajustada = stats.boxcox(numericas['age_new'])\n"
     ]
    }
   ],
   "source": [
    "numericas['age_NORM_boxcox'], lambda_ajustada = stats.boxcox(numericas['age_new'])"
   ]
  },
  {
   "cell_type": "code",
   "execution_count": 38,
   "metadata": {},
   "outputs": [
    {
     "data": {
      "text/plain": [
       "8.472135811722177"
      ]
     },
     "execution_count": 38,
     "metadata": {},
     "output_type": "execute_result"
    }
   ],
   "source": [
    "lambda_ajustada"
   ]
  },
  {
   "cell_type": "code",
   "execution_count": 39,
   "metadata": {},
   "outputs": [
    {
     "data": {
      "text/html": [
       "<div>\n",
       "<style scoped>\n",
       "    .dataframe tbody tr th:only-of-type {\n",
       "        vertical-align: middle;\n",
       "    }\n",
       "\n",
       "    .dataframe tbody tr th {\n",
       "        vertical-align: top;\n",
       "    }\n",
       "\n",
       "    .dataframe thead th {\n",
       "        text-align: right;\n",
       "    }\n",
       "</style>\n",
       "<table border=\"1\" class=\"dataframe\">\n",
       "  <thead>\n",
       "    <tr style=\"text-align: right;\">\n",
       "      <th></th>\n",
       "      <th>year</th>\n",
       "      <th>age_new</th>\n",
       "      <th>age_NORM</th>\n",
       "      <th>age_NORM_log</th>\n",
       "      <th>age_NORM_raiz</th>\n",
       "      <th>age_NORM_boxcox</th>\n",
       "    </tr>\n",
       "  </thead>\n",
       "  <tbody>\n",
       "    <tr>\n",
       "      <th>3315</th>\n",
       "      <td>1977</td>\n",
       "      <td>24.0</td>\n",
       "      <td>-0.037996</td>\n",
       "      <td>3.178054</td>\n",
       "      <td>4.898979</td>\n",
       "      <td>5.825647e+10</td>\n",
       "    </tr>\n",
       "    <tr>\n",
       "      <th>1488</th>\n",
       "      <td>2007</td>\n",
       "      <td>48.0</td>\n",
       "      <td>0.241073</td>\n",
       "      <td>3.871201</td>\n",
       "      <td>6.928203</td>\n",
       "      <td>2.068765e+13</td>\n",
       "    </tr>\n",
       "    <tr>\n",
       "      <th>6179</th>\n",
       "      <td>1851</td>\n",
       "      <td>NaN</td>\n",
       "      <td>NaN</td>\n",
       "      <td>NaN</td>\n",
       "      <td>NaN</td>\n",
       "      <td>NaN</td>\n",
       "    </tr>\n",
       "    <tr>\n",
       "      <th>3443</th>\n",
       "      <td>1974</td>\n",
       "      <td>NaN</td>\n",
       "      <td>NaN</td>\n",
       "      <td>NaN</td>\n",
       "      <td>NaN</td>\n",
       "      <td>NaN</td>\n",
       "    </tr>\n",
       "    <tr>\n",
       "      <th>4442</th>\n",
       "      <td>1955</td>\n",
       "      <td>25.0</td>\n",
       "      <td>-0.026368</td>\n",
       "      <td>3.218876</td>\n",
       "      <td>5.000000</td>\n",
       "      <td>8.232746e+10</td>\n",
       "    </tr>\n",
       "  </tbody>\n",
       "</table>\n",
       "</div>"
      ],
      "text/plain": [
       "      year  age_new  age_NORM  age_NORM_log  age_NORM_raiz  age_NORM_boxcox\n",
       "3315  1977     24.0 -0.037996      3.178054       4.898979     5.825647e+10\n",
       "1488  2007     48.0  0.241073      3.871201       6.928203     2.068765e+13\n",
       "6179  1851      NaN       NaN           NaN            NaN              NaN\n",
       "3443  1974      NaN       NaN           NaN            NaN              NaN\n",
       "4442  1955     25.0 -0.026368      3.218876       5.000000     8.232746e+10"
      ]
     },
     "execution_count": 39,
     "metadata": {},
     "output_type": "execute_result"
    }
   ],
   "source": [
    "numericas.sample(5)"
   ]
  },
  {
   "cell_type": "code",
   "execution_count": 40,
   "metadata": {},
   "outputs": [
    {
     "name": "stderr",
     "output_type": "stream",
     "text": [
      "/home/adalaber/Descargas/yes/lib/python3.9/site-packages/seaborn/distributions.py:2619: FutureWarning: `distplot` is a deprecated function and will be removed in a future version. Please adapt your code to use either `displot` (a figure-level function with similar flexibility) or `histplot` (an axes-level function for histograms).\n",
      "  warnings.warn(msg, FutureWarning)\n",
      "/home/adalaber/Descargas/yes/lib/python3.9/site-packages/seaborn/distributions.py:2619: FutureWarning: `distplot` is a deprecated function and will be removed in a future version. Please adapt your code to use either `displot` (a figure-level function with similar flexibility) or `histplot` (an axes-level function for histograms).\n",
      "  warnings.warn(msg, FutureWarning)\n"
     ]
    },
    {
     "data": {
      "image/png": "[encoded data removed]",
      "text/plain": [
       "<Figure size 1080x360 with 2 Axes>"
      ]
     },
     "metadata": {
      "needs_background": "light"
     },
     "output_type": "display_data"
    }
   ],
   "source": [
    "fig, axes = plt.subplots(1, 2, figsize = (15,5))\n",
    "\n",
    "axes[0].set_title('Age original')\n",
    "axes[1].set_title('Age normalizado')\n",
    "\n",
    "sns.distplot(numericas['age_new'] ,ax = axes[0])\n",
    "sns.distplot(numericas['age_NORM_boxcox'], ax = axes[1]);"
   ]
  },
  {
   "cell_type": "markdown",
   "metadata": {},
   "source": [
    "<font color ='orange'>Sklearn MinMaxScaller"
   ]
  },
  {
   "cell_type": "code",
   "execution_count": 42,
   "metadata": {},
   "outputs": [],
   "source": [
    "minmax = MinMaxScaler()"
   ]
  },
  {
   "cell_type": "code",
   "execution_count": 43,
   "metadata": {},
   "outputs": [
    {
     "data": {
      "text/plain": [
       "MinMaxScaler()"
      ]
     },
     "execution_count": 43,
     "metadata": {},
     "output_type": "execute_result"
    }
   ],
   "source": [
    "minmax.fit(numericas)"
   ]
  },
  {
   "cell_type": "code",
   "execution_count": 44,
   "metadata": {},
   "outputs": [],
   "source": [
    "X_normalizadas = minmax.transform(numericas)"
   ]
  },
  {
   "cell_type": "code",
   "execution_count": 45,
   "metadata": {},
   "outputs": [
    {
     "data": {
      "text/plain": [
       "array([ 0., nan, nan, nan, nan, nan])"
      ]
     },
     "execution_count": 45,
     "metadata": {},
     "output_type": "execute_result"
    }
   ],
   "source": [
    "X_normalizadas.min(axis=0)"
   ]
  },
  {
   "cell_type": "code",
   "execution_count": 46,
   "metadata": {},
   "outputs": [
    {
     "data": {
      "text/plain": [
       "array([ 1., nan, nan, nan, nan, nan])"
      ]
     },
     "execution_count": 46,
     "metadata": {},
     "output_type": "execute_result"
    }
   ],
   "source": [
    "X_normalizadas.max(axis=0)"
   ]
  },
  {
   "cell_type": "code",
   "execution_count": 48,
   "metadata": {},
   "outputs": [
    {
     "data": {
      "text/html": [
       "<div>\n",
       "<style scoped>\n",
       "    .dataframe tbody tr th:only-of-type {\n",
       "        vertical-align: middle;\n",
       "    }\n",
       "\n",
       "    .dataframe tbody tr th {\n",
       "        vertical-align: top;\n",
       "    }\n",
       "\n",
       "    .dataframe thead th {\n",
       "        text-align: right;\n",
       "    }\n",
       "</style>\n",
       "<table border=\"1\" class=\"dataframe\">\n",
       "  <thead>\n",
       "    <tr style=\"text-align: right;\">\n",
       "      <th></th>\n",
       "      <th>year</th>\n",
       "      <th>age_new</th>\n",
       "      <th>age_NORM</th>\n",
       "      <th>age_NORM_log</th>\n",
       "      <th>age_NORM_raiz</th>\n",
       "      <th>age_NORM_boxcox</th>\n",
       "    </tr>\n",
       "  </thead>\n",
       "  <tbody>\n",
       "    <tr>\n",
       "      <th>5568</th>\n",
       "      <td>0.947473</td>\n",
       "      <td>NaN</td>\n",
       "      <td>NaN</td>\n",
       "      <td>NaN</td>\n",
       "      <td>NaN</td>\n",
       "      <td>NaN</td>\n",
       "    </tr>\n",
       "    <tr>\n",
       "      <th>1338</th>\n",
       "      <td>0.995540</td>\n",
       "      <td>0.267442</td>\n",
       "      <td>0.267442</td>\n",
       "      <td>0.711625</td>\n",
       "      <td>0.468212</td>\n",
       "      <td>0.000018</td>\n",
       "    </tr>\n",
       "    <tr>\n",
       "      <th>61</th>\n",
       "      <td>0.000000</td>\n",
       "      <td>NaN</td>\n",
       "      <td>NaN</td>\n",
       "      <td>NaN</td>\n",
       "      <td>NaN</td>\n",
       "      <td>NaN</td>\n",
       "    </tr>\n",
       "    <tr>\n",
       "      <th>3265</th>\n",
       "      <td>0.980674</td>\n",
       "      <td>0.232558</td>\n",
       "      <td>0.232558</td>\n",
       "      <td>0.681725</td>\n",
       "      <td>0.430216</td>\n",
       "      <td>0.000006</td>\n",
       "    </tr>\n",
       "    <tr>\n",
       "      <th>24</th>\n",
       "      <td>0.861249</td>\n",
       "      <td>NaN</td>\n",
       "      <td>NaN</td>\n",
       "      <td>NaN</td>\n",
       "      <td>NaN</td>\n",
       "      <td>NaN</td>\n",
       "    </tr>\n",
       "  </tbody>\n",
       "</table>\n",
       "</div>"
      ],
      "text/plain": [
       "          year   age_new  age_NORM  age_NORM_log  age_NORM_raiz  \\\n",
       "5568  0.947473       NaN       NaN           NaN            NaN   \n",
       "1338  0.995540  0.267442  0.267442      0.711625       0.468212   \n",
       "61    0.000000       NaN       NaN           NaN            NaN   \n",
       "3265  0.980674  0.232558  0.232558      0.681725       0.430216   \n",
       "24    0.861249       NaN       NaN           NaN            NaN   \n",
       "\n",
       "      age_NORM_boxcox  \n",
       "5568              NaN  \n",
       "1338         0.000018  \n",
       "61                NaN  \n",
       "3265         0.000006  \n",
       "24                NaN  "
      ]
     },
     "execution_count": 48,
     "metadata": {},
     "output_type": "execute_result"
    }
   ],
   "source": [
    "numericas_minmax = pd.DataFrame(X_normalizadas, columns = numericas.columns)\n",
    "numericas_minmax.sample(5)"
   ]
  },
  {
   "cell_type": "markdown",
   "metadata": {},
   "source": [
    "### Ejercicio 3: \n",
    "Guardar en un csv nuevo."
   ]
  },
  {
   "cell_type": "code",
   "execution_count": 49,
   "metadata": {},
   "outputs": [],
   "source": [
    "df.to_csv('attacks_limpieza_7.csv')"
   ]
  }
 ],
 "metadata": {
  "kernelspec": {
   "display_name": "Python 3.9.7 ('base')",
   "language": "python",
   "name": "python3"
  },
  "language_info": {
   "codemirror_mode": {
    "name": "ipython",
    "version": 3
   },
   "file_extension": ".py",
   "mimetype": "text/x-python",
   "name": "python",
   "nbconvert_exporter": "python",
   "pygments_lexer": "ipython3",
   "version": "3.9.7"
  },
  "orig_nbformat": 4,
  "vscode": {
   "interpreter": {
    "hash": "ef996a58dd4038b19127a5b342ff558a720418179ddf7c29df6339888c2ae8ac"
   }
  }
 },
 "nbformat": 4,
 "nbformat_minor": 2
}
