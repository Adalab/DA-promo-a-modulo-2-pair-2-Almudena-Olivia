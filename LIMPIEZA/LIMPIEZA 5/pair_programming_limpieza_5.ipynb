{
 "cells": [
  {
   "cell_type": "code",
   "execution_count": 18,
   "metadata": {},
   "outputs": [],
   "source": [
    "import pandas as pd\n",
    "import seaborn as sns\n",
    "import numpy as np\n",
    "import matplotlib.pyplot as plt\n",
    "import re\n",
    "from sklearn.impute import SimpleImputer\n",
    "from sklearn.impute import KNNImputer\n",
    "\n",
    "pd.options.display.max_columns = None"
   ]
  },
  {
   "cell_type": "code",
   "execution_count": 2,
   "metadata": {},
   "outputs": [
    {
     "data": {
      "text/html": [
       "<div>\n",
       "<style scoped>\n",
       "    .dataframe tbody tr th:only-of-type {\n",
       "        vertical-align: middle;\n",
       "    }\n",
       "\n",
       "    .dataframe tbody tr th {\n",
       "        vertical-align: top;\n",
       "    }\n",
       "\n",
       "    .dataframe thead th {\n",
       "        text-align: right;\n",
       "    }\n",
       "</style>\n",
       "<table border=\"1\" class=\"dataframe\">\n",
       "  <thead>\n",
       "    <tr style=\"text-align: right;\">\n",
       "      <th></th>\n",
       "      <th>case_number</th>\n",
       "      <th>year</th>\n",
       "      <th>type</th>\n",
       "      <th>country</th>\n",
       "      <th>area</th>\n",
       "      <th>location</th>\n",
       "      <th>activity</th>\n",
       "      <th>name</th>\n",
       "      <th>sex_</th>\n",
       "      <th>age</th>\n",
       "      <th>time</th>\n",
       "      <th>species_</th>\n",
       "      <th>href</th>\n",
       "      <th>fatal_(y/n)</th>\n",
       "      <th>injury</th>\n",
       "      <th>date</th>\n",
       "    </tr>\n",
       "  </thead>\n",
       "  <tbody>\n",
       "    <tr>\n",
       "      <th>0</th>\n",
       "      <td>1800.00.00</td>\n",
       "      <td>1927.164067</td>\n",
       "      <td>Unprovoked</td>\n",
       "      <td>seychelles</td>\n",
       "      <td>St. Anne</td>\n",
       "      <td>NaN</td>\n",
       "      <td>a corsair's boat was overturned</td>\n",
       "      <td>NaN</td>\n",
       "      <td>F</td>\n",
       "      <td>NaN</td>\n",
       "      <td>NaN</td>\n",
       "      <td>NaN</td>\n",
       "      <td>http://sharkattackfile.net/spreadsheets/pdf_di...</td>\n",
       "      <td>Y</td>\n",
       "      <td>FATAL, all onboard were killed by sharks</td>\n",
       "      <td>1800</td>\n",
       "    </tr>\n",
       "    <tr>\n",
       "      <th>1</th>\n",
       "      <td>1797.05.28.R</td>\n",
       "      <td>1927.164067</td>\n",
       "      <td>Unprovoked</td>\n",
       "      <td>NaN</td>\n",
       "      <td>NaN</td>\n",
       "      <td>NaN</td>\n",
       "      <td>Dropped overboard</td>\n",
       "      <td>child</td>\n",
       "      <td>NaN</td>\n",
       "      <td>NaN</td>\n",
       "      <td>NaN</td>\n",
       "      <td>NaN</td>\n",
       "      <td>http://sharkattackfile.net/spreadsheets/pdf_di...</td>\n",
       "      <td>Y</td>\n",
       "      <td>FATAL</td>\n",
       "      <td>Reported May-28-1797</td>\n",
       "    </tr>\n",
       "  </tbody>\n",
       "</table>\n",
       "</div>"
      ],
      "text/plain": [
       "    case_number         year        type     country      area location  \\\n",
       "0    1800.00.00  1927.164067  Unprovoked  seychelles  St. Anne      NaN   \n",
       "1  1797.05.28.R  1927.164067  Unprovoked         NaN       NaN      NaN   \n",
       "\n",
       "                          activity   name sex_  age time species_  \\\n",
       "0  a corsair's boat was overturned    NaN    F  NaN  NaN      NaN   \n",
       "1                Dropped overboard  child  NaN  NaN  NaN      NaN   \n",
       "\n",
       "                                                href fatal_(y/n)  \\\n",
       "0  http://sharkattackfile.net/spreadsheets/pdf_di...           Y   \n",
       "1  http://sharkattackfile.net/spreadsheets/pdf_di...           Y   \n",
       "\n",
       "                                     injury                  date  \n",
       "0  FATAL, all onboard were killed by sharks                  1800  \n",
       "1                                     FATAL  Reported May-28-1797  "
      ]
     },
     "execution_count": 2,
     "metadata": {},
     "output_type": "execute_result"
    }
   ],
   "source": [
    "df = pd.read_csv(\"attacks_columnas_limpias.csv\", index_col = 0)\n",
    "df.head(2)"
   ]
  },
  {
   "cell_type": "markdown",
   "metadata": {},
   "source": [
    "### EJERCICIO 1:\n",
    "Es el momento de eliminar los nulos:\n",
    " - Reemplazad los valores nulos de la columna age por la media de la edad usando el método SimpleImputer."
   ]
  },
  {
   "cell_type": "markdown",
   "metadata": {},
   "source": [
    "<font color ='red'>Aún no podemos hacerlo porque primero hay que limpiar la columna age."
   ]
  },
  {
   "cell_type": "code",
   "execution_count": null,
   "metadata": {},
   "outputs": [],
   "source": []
  },
  {
   "cell_type": "markdown",
   "metadata": {},
   "source": [
    " - Reemplazad los valores nulos de la columna sex por la moda, usando el método SimpleImputer.\n",
    "💡 ** Pista** 💡 La moda en este tipo de aproximación se indica como most_frequent."
   ]
  },
  {
   "cell_type": "code",
   "execution_count": 6,
   "metadata": {},
   "outputs": [],
   "source": [
    "imputer = SimpleImputer(strategy='most_frequent', missing_values=np.nan)"
   ]
  },
  {
   "cell_type": "code",
   "execution_count": 7,
   "metadata": {},
   "outputs": [],
   "source": [
    "imputer = imputer.fit(df[['sex_']])"
   ]
  },
  {
   "cell_type": "code",
   "execution_count": 8,
   "metadata": {},
   "outputs": [],
   "source": [
    "df['sex_mode'] = imputer.transform(df[['sex_']])"
   ]
  },
  {
   "cell_type": "code",
   "execution_count": 9,
   "metadata": {},
   "outputs": [
    {
     "data": {
      "text/plain": [
       "case_number       1\n",
       "year              0\n",
       "type              4\n",
       "country          50\n",
       "area            454\n",
       "location        539\n",
       "activity        542\n",
       "name            209\n",
       "sex_            564\n",
       "age            2820\n",
       "time           3340\n",
       "species_       2831\n",
       "href              0\n",
       "fatal_(y/n)     534\n",
       "injury           28\n",
       "date              0\n",
       "sex_mode          0\n",
       "dtype: int64"
      ]
     },
     "execution_count": 9,
     "metadata": {},
     "output_type": "execute_result"
    }
   ],
   "source": [
    "df.isnull().sum()"
   ]
  },
  {
   "cell_type": "code",
   "execution_count": 11,
   "metadata": {},
   "outputs": [
    {
     "data": {
      "text/plain": [
       "array(['F', 'M', 'M ', 'lli', 'N', '.'], dtype=object)"
      ]
     },
     "execution_count": 11,
     "metadata": {},
     "output_type": "execute_result"
    }
   ],
   "source": [
    "df['sex_mode'].unique()"
   ]
  },
  {
   "cell_type": "markdown",
   "metadata": {},
   "source": [
    "<font color ='orange'>Hemos creado una columna nueva para sex, rellenando los valores nulos por aquellos valores más frecuentes."
   ]
  },
  {
   "cell_type": "markdown",
   "metadata": {},
   "source": [
    " - Reemplazad los valores nulos de la columna type por el valor más frecuente (la moda) con el método SimpleImputer."
   ]
  },
  {
   "cell_type": "code",
   "execution_count": 12,
   "metadata": {},
   "outputs": [],
   "source": [
    "imputer = imputer.fit(df[['type']])"
   ]
  },
  {
   "cell_type": "code",
   "execution_count": 13,
   "metadata": {},
   "outputs": [],
   "source": [
    "df['type_mode'] = imputer.transform(df[['type']])"
   ]
  },
  {
   "cell_type": "code",
   "execution_count": 14,
   "metadata": {},
   "outputs": [
    {
     "data": {
      "text/plain": [
       "case_number       1\n",
       "year              0\n",
       "type              4\n",
       "country          50\n",
       "area            454\n",
       "location        539\n",
       "activity        542\n",
       "name            209\n",
       "sex_            564\n",
       "age            2820\n",
       "time           3340\n",
       "species_       2831\n",
       "href              0\n",
       "fatal_(y/n)     534\n",
       "injury           28\n",
       "date              0\n",
       "sex_mode          0\n",
       "type_mode         0\n",
       "dtype: int64"
      ]
     },
     "execution_count": 14,
     "metadata": {},
     "output_type": "execute_result"
    }
   ],
   "source": [
    "df.isnull().sum()"
   ]
  },
  {
   "cell_type": "code",
   "execution_count": 15,
   "metadata": {},
   "outputs": [
    {
     "data": {
      "text/plain": [
       "array(['Unprovoked', 'Provoked', 'Boat', 'Sea Disaster', 'Invalid',\n",
       "       'Boating', 'Questionable', 'Boatomg'], dtype=object)"
      ]
     },
     "execution_count": 15,
     "metadata": {},
     "output_type": "execute_result"
    }
   ],
   "source": [
    "df['type_mode'].unique()"
   ]
  },
  {
   "cell_type": "markdown",
   "metadata": {},
   "source": [
    "<font color ='orange'>Mantenemos el imputer del ejercicio anterior ya que continuamos obteniendo la moda de los valores. Comprobamos que ya no tenemos nulos en la nueva columna."
   ]
  },
  {
   "cell_type": "markdown",
   "metadata": {},
   "source": [
    " - Utilizad el método KNN Imputer para reemplazar todos los valores nulos de las columnas numéricas."
   ]
  },
  {
   "cell_type": "code",
   "execution_count": 16,
   "metadata": {},
   "outputs": [],
   "source": [
    "numericas = df.select_dtypes(include = np.number)"
   ]
  },
  {
   "cell_type": "code",
   "execution_count": 17,
   "metadata": {},
   "outputs": [
    {
     "data": {
      "text/plain": [
       "year    0\n",
       "dtype: int64"
      ]
     },
     "execution_count": 17,
     "metadata": {},
     "output_type": "execute_result"
    }
   ],
   "source": [
    "numericas.isnull().sum()"
   ]
  },
  {
   "cell_type": "code",
   "execution_count": null,
   "metadata": {},
   "outputs": [],
   "source": [
    "imputerKNN = KNNImputer(n_neighbors=5)\n",
    "imputerKNN.fit(numericas)"
   ]
  },
  {
   "cell_type": "code",
   "execution_count": null,
   "metadata": {},
   "outputs": [],
   "source": [
    "numericas_knn= imputerKNN.transform(numericas)"
   ]
  },
  {
   "cell_type": "code",
   "execution_count": null,
   "metadata": {},
   "outputs": [],
   "source": [
    "df_knn_imputer = pd.DataFrame(numericas_knn, columns = numericas.columns)"
   ]
  },
  {
   "cell_type": "markdown",
   "metadata": {},
   "source": [
    " - Utilizad el método Iterative Imputer para reemplazar todos los valores nulos de las columnas numéricas."
   ]
  },
  {
   "cell_type": "markdown",
   "metadata": {},
   "source": [
    "<font color ='red'> Hay que trabajar con la columna age. Primero tiene que estar limpia. Con year no se puede porque no tiene nulos. Fueron sustituidos ppor la media."
   ]
  }
 ],
 "metadata": {
  "kernelspec": {
   "display_name": "Python 3.9.7 ('base')",
   "language": "python",
   "name": "python3"
  },
  "language_info": {
   "codemirror_mode": {
    "name": "ipython",
    "version": 3
   },
   "file_extension": ".py",
   "mimetype": "text/x-python",
   "name": "python",
   "nbconvert_exporter": "python",
   "pygments_lexer": "ipython3",
   "version": "3.9.7"
  },
  "orig_nbformat": 4,
  "vscode": {
   "interpreter": {
    "hash": "ef996a58dd4038b19127a5b342ff558a720418179ddf7c29df6339888c2ae8ac"
   }
  }
 },
 "nbformat": 4,
 "nbformat_minor": 2
}
