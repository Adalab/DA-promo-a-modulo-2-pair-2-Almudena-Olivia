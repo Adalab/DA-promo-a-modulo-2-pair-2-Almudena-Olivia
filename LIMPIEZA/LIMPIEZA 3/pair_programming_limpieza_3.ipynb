{
 "cells": [
  {
   "cell_type": "code",
   "execution_count": 4,
   "metadata": {},
   "outputs": [],
   "source": [
    "import pandas as pd\n",
    "import seaborn as sns\n",
    "import matplotlib.pyplot as plt\n",
    "import numpy as np\n",
    "\n",
    "pd.options.display.max_columns = None"
   ]
  },
  {
   "cell_type": "markdown",
   "metadata": {},
   "source": [
    "### Ejercicio 1:\n",
    "¿Sobre que columnas podremos eliminar o reemplazar los outliers?"
   ]
  },
  {
   "cell_type": "code",
   "execution_count": 5,
   "metadata": {},
   "outputs": [
    {
     "data": {
      "text/html": [
       "<div>\n",
       "<style scoped>\n",
       "    .dataframe tbody tr th:only-of-type {\n",
       "        vertical-align: middle;\n",
       "    }\n",
       "\n",
       "    .dataframe tbody tr th {\n",
       "        vertical-align: top;\n",
       "    }\n",
       "\n",
       "    .dataframe thead th {\n",
       "        text-align: right;\n",
       "    }\n",
       "</style>\n",
       "<table border=\"1\" class=\"dataframe\">\n",
       "  <thead>\n",
       "    <tr style=\"text-align: right;\">\n",
       "      <th></th>\n",
       "      <th>case_number</th>\n",
       "      <th>year</th>\n",
       "      <th>type</th>\n",
       "      <th>country</th>\n",
       "      <th>area</th>\n",
       "      <th>location</th>\n",
       "      <th>activity</th>\n",
       "      <th>name</th>\n",
       "      <th>sex_</th>\n",
       "      <th>age</th>\n",
       "      <th>time</th>\n",
       "      <th>species_</th>\n",
       "      <th>href</th>\n",
       "      <th>fatal_(y/n)</th>\n",
       "      <th>injury</th>\n",
       "      <th>date</th>\n",
       "      <th>age_new</th>\n",
       "    </tr>\n",
       "  </thead>\n",
       "  <tbody>\n",
       "    <tr>\n",
       "      <th>0</th>\n",
       "      <td>1800.00.00</td>\n",
       "      <td>1800</td>\n",
       "      <td>Unprovoked</td>\n",
       "      <td>seychelles</td>\n",
       "      <td>St. Anne</td>\n",
       "      <td>NaN</td>\n",
       "      <td>a corsair's boat was overturned</td>\n",
       "      <td>NaN</td>\n",
       "      <td>F</td>\n",
       "      <td>NaN</td>\n",
       "      <td>NaN</td>\n",
       "      <td>NaN</td>\n",
       "      <td>http://sharkattackfile.net/spreadsheets/pdf_di...</td>\n",
       "      <td>Y</td>\n",
       "      <td>FATAL, all onboard were killed by sharks</td>\n",
       "      <td>1800</td>\n",
       "      <td>NaN</td>\n",
       "    </tr>\n",
       "    <tr>\n",
       "      <th>1</th>\n",
       "      <td>1797.05.28.R</td>\n",
       "      <td>1797</td>\n",
       "      <td>Unprovoked</td>\n",
       "      <td>NaN</td>\n",
       "      <td>NaN</td>\n",
       "      <td>NaN</td>\n",
       "      <td>Dropped overboard</td>\n",
       "      <td>child</td>\n",
       "      <td>NaN</td>\n",
       "      <td>NaN</td>\n",
       "      <td>NaN</td>\n",
       "      <td>NaN</td>\n",
       "      <td>http://sharkattackfile.net/spreadsheets/pdf_di...</td>\n",
       "      <td>Y</td>\n",
       "      <td>FATAL</td>\n",
       "      <td>Reported May-28-1797</td>\n",
       "      <td>NaN</td>\n",
       "    </tr>\n",
       "    <tr>\n",
       "      <th>2</th>\n",
       "      <td>1792.09.12</td>\n",
       "      <td>1792</td>\n",
       "      <td>Provoked</td>\n",
       "      <td>england</td>\n",
       "      <td>NaN</td>\n",
       "      <td>On the Thames River</td>\n",
       "      <td>Fishing</td>\n",
       "      <td>male</td>\n",
       "      <td>M</td>\n",
       "      <td>NaN</td>\n",
       "      <td>NaN</td>\n",
       "      <td>NaN</td>\n",
       "      <td>http://sharkattackfile.net/spreadsheets/pdf_di...</td>\n",
       "      <td>Y</td>\n",
       "      <td>FATAL, PROVOKED INCIDENT</td>\n",
       "      <td>12-Sep-1792</td>\n",
       "      <td>NaN</td>\n",
       "    </tr>\n",
       "    <tr>\n",
       "      <th>3</th>\n",
       "      <td>1791.00.00</td>\n",
       "      <td>1791</td>\n",
       "      <td>Unprovoked</td>\n",
       "      <td>australia</td>\n",
       "      <td>New South Wales</td>\n",
       "      <td>Port Jackson</td>\n",
       "      <td>NaN</td>\n",
       "      <td>female, an Australian aboriginal</td>\n",
       "      <td>F</td>\n",
       "      <td>NaN</td>\n",
       "      <td>NaN</td>\n",
       "      <td>NaN</td>\n",
       "      <td>http://sharkattackfile.net/spreadsheets/pdf_di...</td>\n",
       "      <td>Y</td>\n",
       "      <td>FATAL, \"bitten in two\"</td>\n",
       "      <td>1791</td>\n",
       "      <td>NaN</td>\n",
       "    </tr>\n",
       "    <tr>\n",
       "      <th>4</th>\n",
       "      <td>1788.05.10</td>\n",
       "      <td>1788</td>\n",
       "      <td>Boat</td>\n",
       "      <td>australia</td>\n",
       "      <td>New South Wales</td>\n",
       "      <td>Sydney Harbor</td>\n",
       "      <td>Fishing</td>\n",
       "      <td>boat</td>\n",
       "      <td>NaN</td>\n",
       "      <td>NaN</td>\n",
       "      <td>NaN</td>\n",
       "      <td>NaN</td>\n",
       "      <td>http://sharkattackfile.net/spreadsheets/pdf_di...</td>\n",
       "      <td>N</td>\n",
       "      <td>No injury to occupants, shark bit oar and rudder</td>\n",
       "      <td>10-May-1788</td>\n",
       "      <td>NaN</td>\n",
       "    </tr>\n",
       "  </tbody>\n",
       "</table>\n",
       "</div>"
      ],
      "text/plain": [
       "    case_number  year        type     country             area  \\\n",
       "0    1800.00.00  1800  Unprovoked  seychelles         St. Anne   \n",
       "1  1797.05.28.R  1797  Unprovoked         NaN              NaN   \n",
       "2    1792.09.12  1792    Provoked     england              NaN   \n",
       "3    1791.00.00  1791  Unprovoked   australia  New South Wales   \n",
       "4    1788.05.10  1788        Boat   australia  New South Wales   \n",
       "\n",
       "              location                         activity  \\\n",
       "0                  NaN  a corsair's boat was overturned   \n",
       "1                  NaN                Dropped overboard   \n",
       "2  On the Thames River                          Fishing   \n",
       "3         Port Jackson                              NaN   \n",
       "4        Sydney Harbor                          Fishing   \n",
       "\n",
       "                               name sex_  age time species_  \\\n",
       "0                               NaN    F  NaN  NaN      NaN   \n",
       "1                             child  NaN  NaN  NaN      NaN   \n",
       "2                              male    M  NaN  NaN      NaN   \n",
       "3  female, an Australian aboriginal    F  NaN  NaN      NaN   \n",
       "4                              boat  NaN  NaN  NaN      NaN   \n",
       "\n",
       "                                                href fatal_(y/n)  \\\n",
       "0  http://sharkattackfile.net/spreadsheets/pdf_di...           Y   \n",
       "1  http://sharkattackfile.net/spreadsheets/pdf_di...           Y   \n",
       "2  http://sharkattackfile.net/spreadsheets/pdf_di...           Y   \n",
       "3  http://sharkattackfile.net/spreadsheets/pdf_di...           Y   \n",
       "4  http://sharkattackfile.net/spreadsheets/pdf_di...           N   \n",
       "\n",
       "                                             injury                  date  \\\n",
       "0          FATAL, all onboard were killed by sharks                  1800   \n",
       "1                                             FATAL  Reported May-28-1797   \n",
       "2                          FATAL, PROVOKED INCIDENT           12-Sep-1792   \n",
       "3                            FATAL, \"bitten in two\"                  1791   \n",
       "4  No injury to occupants, shark bit oar and rudder           10-May-1788   \n",
       "\n",
       "   age_new  \n",
       "0      NaN  \n",
       "1      NaN  \n",
       "2      NaN  \n",
       "3      NaN  \n",
       "4      NaN  "
      ]
     },
     "execution_count": 5,
     "metadata": {},
     "output_type": "execute_result"
    }
   ],
   "source": [
    "df = pd.read_csv(\"attacks_limpieza_2.csv\", index_col = 0)\n",
    "df.head()"
   ]
  },
  {
   "cell_type": "markdown",
   "metadata": {},
   "source": [
    "<font color='violet'>Seleccionamos las columnas con valores numéricos ya que serán las que tendrán outliers."
   ]
  },
  {
   "cell_type": "code",
   "execution_count": 6,
   "metadata": {},
   "outputs": [],
   "source": [
    "df_numericas = df.select_dtypes(include=np.number)"
   ]
  },
  {
   "cell_type": "code",
   "execution_count": 7,
   "metadata": {},
   "outputs": [
    {
     "data": {
      "text/html": [
       "<div>\n",
       "<style scoped>\n",
       "    .dataframe tbody tr th:only-of-type {\n",
       "        vertical-align: middle;\n",
       "    }\n",
       "\n",
       "    .dataframe tbody tr th {\n",
       "        vertical-align: top;\n",
       "    }\n",
       "\n",
       "    .dataframe thead th {\n",
       "        text-align: right;\n",
       "    }\n",
       "</style>\n",
       "<table border=\"1\" class=\"dataframe\">\n",
       "  <thead>\n",
       "    <tr style=\"text-align: right;\">\n",
       "      <th></th>\n",
       "      <th>year</th>\n",
       "      <th>age_new</th>\n",
       "    </tr>\n",
       "  </thead>\n",
       "  <tbody>\n",
       "    <tr>\n",
       "      <th>0</th>\n",
       "      <td>1800</td>\n",
       "      <td>NaN</td>\n",
       "    </tr>\n",
       "    <tr>\n",
       "      <th>1</th>\n",
       "      <td>1797</td>\n",
       "      <td>NaN</td>\n",
       "    </tr>\n",
       "  </tbody>\n",
       "</table>\n",
       "</div>"
      ],
      "text/plain": [
       "   year  age_new\n",
       "0  1800      NaN\n",
       "1  1797      NaN"
      ]
     },
     "execution_count": 7,
     "metadata": {},
     "output_type": "execute_result"
    }
   ],
   "source": [
    "df_numericas.head(2)"
   ]
  },
  {
   "cell_type": "markdown",
   "metadata": {},
   "source": [
    "### Ejercicio 2:\n",
    "Identifica visualmente los outliers"
   ]
  },
  {
   "cell_type": "code",
   "execution_count": 8,
   "metadata": {},
   "outputs": [
    {
     "data": {
      "image/png": "[encoded data removed]",
      "text/plain": [
       "<Figure size 1440x504 with 1 Axes>"
      ]
     },
     "metadata": {
      "needs_background": "light"
     },
     "output_type": "display_data"
    }
   ],
   "source": [
    "plt.subplots(figsize=(20,7))\n",
    "sns.boxplot(x='year', data=df_numericas, color='violet');"
   ]
  },
  {
   "cell_type": "markdown",
   "metadata": {},
   "source": [
    "### Ejercicio 3:\n",
    "Identifica sobre el dataframe las filas que son outliers"
   ]
  },
  {
   "cell_type": "markdown",
   "metadata": {},
   "source": [
    "<font color='violet'> La columna 'year' es la única sobre la que podemos detectar valores outliers. En el boxplot podemos ver que la mayor parte de los ataques ocurren entre los años 1900 y 2000. También observamos que tenemos fechas del año 0 o del 500. También hay ataques que datan entre los años 1500 y 1700. \n",
    "\n",
    "Como estos outliers no parece que tengan mucha fiabilidad vamos a eliminarlos. Para ello haremos una funcion que calcule los percentiles y el IQR, y luego eliminaremos aquellos valores que sobresalgan de estos límites. Realizaremos otro boxplot para ver cómo han quedado nuestros datos después de eliminar los outliers para examinarlos mejor."
   ]
  },
  {
   "cell_type": "code",
   "execution_count": 9,
   "metadata": {},
   "outputs": [],
   "source": [
    "def detectar_outliers(year, df): \n",
    "    \n",
    "    dicc_indices = {}\n",
    "    \n",
    "    Q1 = np.nanpercentile(df[year], 25)\n",
    "    Q3 = np.nanpercentile(df[year], 75)\n",
    "        \n",
    "    IQR = Q3 - Q1\n",
    "        \n",
    "    limites_outliers = 1.5 * IQR\n",
    "        \n",
    "    datos_outliers = df[(df[year] < Q1 - limites_outliers) | (df[year] > Q3 + limites_outliers)]\n",
    "        \n",
    "        \n",
    "    if datos_outliers.shape[0] > 0:  \n",
    "        \n",
    "        dicc_indices[year] = (list(datos_outliers.index)) \n",
    "        \n",
    "\n",
    "    \n",
    "    return dicc_indices "
   ]
  },
  {
   "cell_type": "code",
   "execution_count": 10,
   "metadata": {},
   "outputs": [],
   "source": [
    "ind = detectar_outliers('year', df)"
   ]
  },
  {
   "cell_type": "code",
   "execution_count": 11,
   "metadata": {},
   "outputs": [
    {
     "name": "stdout",
     "output_type": "stream",
     "text": [
      "{'year': [0, 1, 2, 3, 4, 5, 6, 7, 8, 9, 10, 11, 12, 13, 14, 15, 16, 17, 18, 19, 20, 21, 22, 23, 24, 25, 26, 27, 28, 29, 30, 31, 32, 33, 34, 35, 36, 37, 38, 39, 40, 41, 42, 43, 44, 45, 46, 47, 48, 49, 50, 51, 52, 53, 54, 55, 56, 57, 58, 59, 60, 61, 62, 63, 64, 65, 66, 67, 68, 69, 70, 71, 72, 73, 74, 75, 76, 77, 78, 79, 80, 81, 82, 83, 84, 85, 86, 87, 88, 89, 90, 91, 92, 93, 94, 95, 96, 97, 98, 99, 100, 101, 102, 103, 104, 105, 106, 107, 108, 109, 110, 111, 112, 113, 114, 115, 116, 117, 118, 119, 120, 121, 122, 123, 124, 125, 126, 127, 128, 129, 130, 131, 132, 133, 133, 134, 135, 136, 137, 138, 139, 140, 141, 142, 143, 144, 145, 146, 147, 148, 149, 150, 151, 152, 153, 154, 155, 156, 157, 158, 159, 160, 161, 162, 163, 164, 165, 166, 167, 168, 169, 6192, 6193, 6194, 6195, 6196, 6197, 6198, 6199, 6200, 6201, 6202, 6203, 6204, 6205, 6206, 6207, 6208, 6209, 6210, 6211, 6212, 6213, 6214, 6215, 6216, 6216, 6217, 6218, 6219, 6220, 6221, 6222, 6223, 6224, 6225, 6226, 6227, 6228, 6229, 6230, 6231, 6232, 6233, 6234, 6235, 6236, 6237, 6238, 6239, 6240, 6241, 6242, 6243, 6244, 6245, 6246, 6247, 6248, 6249, 6250, 6251, 6252, 6253, 6254, 6255, 6256, 6257, 6258, 6259, 6260, 6261, 6262, 6263, 6264, 6265, 6266, 6267, 6268, 6269, 6270, 6271, 6272, 6273, 6274, 6275, 6276, 6278, 6279, 6280, 6281, 6282, 6283]}\n"
     ]
    }
   ],
   "source": [
    "print(ind)"
   ]
  },
  {
   "cell_type": "markdown",
   "metadata": {},
   "source": [
    "<font color='violet'> Extraemos creamos un diccionario con los índices de los valores que son outliers."
   ]
  },
  {
   "cell_type": "markdown",
   "metadata": {},
   "source": [
    "### Ejercicio 4:\n",
    "Reemplaza los outliers por el estadístico más correcto."
   ]
  },
  {
   "cell_type": "code",
   "execution_count": 12,
   "metadata": {},
   "outputs": [],
   "source": [
    "for k, v in ind.items():\n",
    "    media = df[k].mean()\n",
    "    for i in v: \n",
    "        df.loc[i,k] = media"
   ]
  },
  {
   "cell_type": "code",
   "execution_count": 13,
   "metadata": {},
   "outputs": [
    {
     "data": {
      "text/html": [
       "<div>\n",
       "<style scoped>\n",
       "    .dataframe tbody tr th:only-of-type {\n",
       "        vertical-align: middle;\n",
       "    }\n",
       "\n",
       "    .dataframe tbody tr th {\n",
       "        vertical-align: top;\n",
       "    }\n",
       "\n",
       "    .dataframe thead th {\n",
       "        text-align: right;\n",
       "    }\n",
       "</style>\n",
       "<table border=\"1\" class=\"dataframe\">\n",
       "  <thead>\n",
       "    <tr style=\"text-align: right;\">\n",
       "      <th></th>\n",
       "      <th>case_number</th>\n",
       "      <th>year</th>\n",
       "      <th>type</th>\n",
       "      <th>country</th>\n",
       "      <th>area</th>\n",
       "      <th>location</th>\n",
       "      <th>activity</th>\n",
       "      <th>name</th>\n",
       "      <th>sex_</th>\n",
       "      <th>age</th>\n",
       "      <th>time</th>\n",
       "      <th>species_</th>\n",
       "      <th>href</th>\n",
       "      <th>fatal_(y/n)</th>\n",
       "      <th>injury</th>\n",
       "      <th>date</th>\n",
       "      <th>age_new</th>\n",
       "    </tr>\n",
       "  </thead>\n",
       "  <tbody>\n",
       "    <tr>\n",
       "      <th>0</th>\n",
       "      <td>1800.00.00</td>\n",
       "      <td>1927.133059</td>\n",
       "      <td>Unprovoked</td>\n",
       "      <td>seychelles</td>\n",
       "      <td>St. Anne</td>\n",
       "      <td>NaN</td>\n",
       "      <td>a corsair's boat was overturned</td>\n",
       "      <td>NaN</td>\n",
       "      <td>F</td>\n",
       "      <td>NaN</td>\n",
       "      <td>NaN</td>\n",
       "      <td>NaN</td>\n",
       "      <td>http://sharkattackfile.net/spreadsheets/pdf_di...</td>\n",
       "      <td>Y</td>\n",
       "      <td>FATAL, all onboard were killed by sharks</td>\n",
       "      <td>1800</td>\n",
       "      <td>NaN</td>\n",
       "    </tr>\n",
       "    <tr>\n",
       "      <th>1</th>\n",
       "      <td>1797.05.28.R</td>\n",
       "      <td>1927.133059</td>\n",
       "      <td>Unprovoked</td>\n",
       "      <td>NaN</td>\n",
       "      <td>NaN</td>\n",
       "      <td>NaN</td>\n",
       "      <td>Dropped overboard</td>\n",
       "      <td>child</td>\n",
       "      <td>NaN</td>\n",
       "      <td>NaN</td>\n",
       "      <td>NaN</td>\n",
       "      <td>NaN</td>\n",
       "      <td>http://sharkattackfile.net/spreadsheets/pdf_di...</td>\n",
       "      <td>Y</td>\n",
       "      <td>FATAL</td>\n",
       "      <td>Reported May-28-1797</td>\n",
       "      <td>NaN</td>\n",
       "    </tr>\n",
       "    <tr>\n",
       "      <th>2</th>\n",
       "      <td>1792.09.12</td>\n",
       "      <td>1927.133059</td>\n",
       "      <td>Provoked</td>\n",
       "      <td>england</td>\n",
       "      <td>NaN</td>\n",
       "      <td>On the Thames River</td>\n",
       "      <td>Fishing</td>\n",
       "      <td>male</td>\n",
       "      <td>M</td>\n",
       "      <td>NaN</td>\n",
       "      <td>NaN</td>\n",
       "      <td>NaN</td>\n",
       "      <td>http://sharkattackfile.net/spreadsheets/pdf_di...</td>\n",
       "      <td>Y</td>\n",
       "      <td>FATAL, PROVOKED INCIDENT</td>\n",
       "      <td>12-Sep-1792</td>\n",
       "      <td>NaN</td>\n",
       "    </tr>\n",
       "    <tr>\n",
       "      <th>3</th>\n",
       "      <td>1791.00.00</td>\n",
       "      <td>1927.133059</td>\n",
       "      <td>Unprovoked</td>\n",
       "      <td>australia</td>\n",
       "      <td>New South Wales</td>\n",
       "      <td>Port Jackson</td>\n",
       "      <td>NaN</td>\n",
       "      <td>female, an Australian aboriginal</td>\n",
       "      <td>F</td>\n",
       "      <td>NaN</td>\n",
       "      <td>NaN</td>\n",
       "      <td>NaN</td>\n",
       "      <td>http://sharkattackfile.net/spreadsheets/pdf_di...</td>\n",
       "      <td>Y</td>\n",
       "      <td>FATAL, \"bitten in two\"</td>\n",
       "      <td>1791</td>\n",
       "      <td>NaN</td>\n",
       "    </tr>\n",
       "    <tr>\n",
       "      <th>4</th>\n",
       "      <td>1788.05.10</td>\n",
       "      <td>1927.133059</td>\n",
       "      <td>Boat</td>\n",
       "      <td>australia</td>\n",
       "      <td>New South Wales</td>\n",
       "      <td>Sydney Harbor</td>\n",
       "      <td>Fishing</td>\n",
       "      <td>boat</td>\n",
       "      <td>NaN</td>\n",
       "      <td>NaN</td>\n",
       "      <td>NaN</td>\n",
       "      <td>NaN</td>\n",
       "      <td>http://sharkattackfile.net/spreadsheets/pdf_di...</td>\n",
       "      <td>N</td>\n",
       "      <td>No injury to occupants, shark bit oar and rudder</td>\n",
       "      <td>10-May-1788</td>\n",
       "      <td>NaN</td>\n",
       "    </tr>\n",
       "  </tbody>\n",
       "</table>\n",
       "</div>"
      ],
      "text/plain": [
       "    case_number         year        type     country             area  \\\n",
       "0    1800.00.00  1927.133059  Unprovoked  seychelles         St. Anne   \n",
       "1  1797.05.28.R  1927.133059  Unprovoked         NaN              NaN   \n",
       "2    1792.09.12  1927.133059    Provoked     england              NaN   \n",
       "3    1791.00.00  1927.133059  Unprovoked   australia  New South Wales   \n",
       "4    1788.05.10  1927.133059        Boat   australia  New South Wales   \n",
       "\n",
       "              location                         activity  \\\n",
       "0                  NaN  a corsair's boat was overturned   \n",
       "1                  NaN                Dropped overboard   \n",
       "2  On the Thames River                          Fishing   \n",
       "3         Port Jackson                              NaN   \n",
       "4        Sydney Harbor                          Fishing   \n",
       "\n",
       "                               name sex_  age time species_  \\\n",
       "0                               NaN    F  NaN  NaN      NaN   \n",
       "1                             child  NaN  NaN  NaN      NaN   \n",
       "2                              male    M  NaN  NaN      NaN   \n",
       "3  female, an Australian aboriginal    F  NaN  NaN      NaN   \n",
       "4                              boat  NaN  NaN  NaN      NaN   \n",
       "\n",
       "                                                href fatal_(y/n)  \\\n",
       "0  http://sharkattackfile.net/spreadsheets/pdf_di...           Y   \n",
       "1  http://sharkattackfile.net/spreadsheets/pdf_di...           Y   \n",
       "2  http://sharkattackfile.net/spreadsheets/pdf_di...           Y   \n",
       "3  http://sharkattackfile.net/spreadsheets/pdf_di...           Y   \n",
       "4  http://sharkattackfile.net/spreadsheets/pdf_di...           N   \n",
       "\n",
       "                                             injury                  date  \\\n",
       "0          FATAL, all onboard were killed by sharks                  1800   \n",
       "1                                             FATAL  Reported May-28-1797   \n",
       "2                          FATAL, PROVOKED INCIDENT           12-Sep-1792   \n",
       "3                            FATAL, \"bitten in two\"                  1791   \n",
       "4  No injury to occupants, shark bit oar and rudder           10-May-1788   \n",
       "\n",
       "   age_new  \n",
       "0      NaN  \n",
       "1      NaN  \n",
       "2      NaN  \n",
       "3      NaN  \n",
       "4      NaN  "
      ]
     },
     "execution_count": 13,
     "metadata": {},
     "output_type": "execute_result"
    }
   ],
   "source": [
    "df.head()"
   ]
  },
  {
   "cell_type": "code",
   "execution_count": 14,
   "metadata": {},
   "outputs": [
    {
     "data": {
      "image/png": "[encoded data removed]",
      "text/plain": [
       "<Figure size 1440x504 with 1 Axes>"
      ]
     },
     "metadata": {
      "needs_background": "light"
     },
     "output_type": "display_data"
    }
   ],
   "source": [
    "plt.subplots(figsize=(20,7))\n",
    "sns.boxplot(x='year', data=df, color='violet');"
   ]
  },
  {
   "cell_type": "markdown",
   "metadata": {},
   "source": [
    "### Ejercicio 5:\n",
    "Guarda el csv con las columnas limpias para seguir trabajando con este dataframe limpio."
   ]
  },
  {
   "cell_type": "code",
   "execution_count": 15,
   "metadata": {},
   "outputs": [],
   "source": [
    "df.to_csv('attacks_columnas_limpias.csv')"
   ]
  }
 ],
 "metadata": {
  "interpreter": {
   "hash": "9df72549cec875d35faaa50875d444b10c11452b268975a17c9dc6870f43870f"
  },
  "kernelspec": {
   "display_name": "Python 3.9.7 ('base')",
   "language": "python",
   "name": "python3"
  },
  "language_info": {
   "codemirror_mode": {
    "name": "ipython",
    "version": 3
   },
   "file_extension": ".py",
   "mimetype": "text/x-python",
   "name": "python",
   "nbconvert_exporter": "python",
   "pygments_lexer": "ipython3",
   "version": "3.9.7"
  },
  "orig_nbformat": 4,
  "vscode": {
   "interpreter": {
    "hash": "ef996a58dd4038b19127a5b342ff558a720418179ddf7c29df6339888c2ae8ac"
   }
  }
 },
 "nbformat": 4,
 "nbformat_minor": 2
}
