{
 "cells": [
  {
   "cell_type": "code",
   "execution_count": 8,
   "metadata": {},
   "outputs": [],
   "source": [
    "import pandas as pd\n",
    "import seaborn as sns\n",
    "import matplotlib.pyplot as plt\n",
    "import numpy as np\n",
    "\n",
    "pd.options.display.max_columns = None"
   ]
  },
  {
   "cell_type": "code",
   "execution_count": 9,
   "metadata": {},
   "outputs": [
    {
     "data": {
      "text/html": [
       "<div>\n",
       "<style scoped>\n",
       "    .dataframe tbody tr th:only-of-type {\n",
       "        vertical-align: middle;\n",
       "    }\n",
       "\n",
       "    .dataframe tbody tr th {\n",
       "        vertical-align: top;\n",
       "    }\n",
       "\n",
       "    .dataframe thead th {\n",
       "        text-align: right;\n",
       "    }\n",
       "</style>\n",
       "<table border=\"1\" class=\"dataframe\">\n",
       "  <thead>\n",
       "    <tr style=\"text-align: right;\">\n",
       "      <th></th>\n",
       "      <th>case_number</th>\n",
       "      <th>year</th>\n",
       "      <th>type</th>\n",
       "      <th>country</th>\n",
       "      <th>area</th>\n",
       "      <th>location</th>\n",
       "      <th>activity</th>\n",
       "      <th>name</th>\n",
       "      <th>sex_</th>\n",
       "      <th>age</th>\n",
       "      <th>time</th>\n",
       "      <th>species_</th>\n",
       "      <th>href</th>\n",
       "      <th>fatal_(y/n)</th>\n",
       "      <th>injury</th>\n",
       "      <th>date</th>\n",
       "    </tr>\n",
       "  </thead>\n",
       "  <tbody>\n",
       "    <tr>\n",
       "      <th>1587</th>\n",
       "      <td>2006.10.10</td>\n",
       "      <td>2006.0</td>\n",
       "      <td>Unprovoked</td>\n",
       "      <td>usa</td>\n",
       "      <td>Florida</td>\n",
       "      <td>Daytona Beach, Volusia County</td>\n",
       "      <td>Surfing</td>\n",
       "      <td>Kyle Cody</td>\n",
       "      <td>M</td>\n",
       "      <td>20</td>\n",
       "      <td>11h30</td>\n",
       "      <td>NaN</td>\n",
       "      <td>http://sharkattackfile.net/spreadsheets/pdf_di...</td>\n",
       "      <td>N</td>\n",
       "      <td>Left ankle bitten</td>\n",
       "      <td>10-Oct-2006</td>\n",
       "    </tr>\n",
       "    <tr>\n",
       "      <th>372</th>\n",
       "      <td>2016.10.21</td>\n",
       "      <td>2016.0</td>\n",
       "      <td>Unprovoked</td>\n",
       "      <td>usa</td>\n",
       "      <td>Hawaii</td>\n",
       "      <td>Hooipa Beach Park, Maui</td>\n",
       "      <td>Surfing</td>\n",
       "      <td>Federico Jaime</td>\n",
       "      <td>M</td>\n",
       "      <td>36</td>\n",
       "      <td>17h00</td>\n",
       "      <td>6' to 8' shark</td>\n",
       "      <td>http://sharkattackfile.net/spreadsheets/pdf_di...</td>\n",
       "      <td>N</td>\n",
       "      <td>Left arm and leg injured</td>\n",
       "      <td>21-Oct-2016</td>\n",
       "    </tr>\n",
       "    <tr>\n",
       "      <th>1508</th>\n",
       "      <td>2007.08.20</td>\n",
       "      <td>2007.0</td>\n",
       "      <td>Provoked</td>\n",
       "      <td>usa</td>\n",
       "      <td>Delaware</td>\n",
       "      <td>Indian River Inlet, Rehoboth Beach</td>\n",
       "      <td>Fishing</td>\n",
       "      <td>male</td>\n",
       "      <td>M</td>\n",
       "      <td>NaN</td>\n",
       "      <td>19h45</td>\n",
       "      <td>Sandtiger shark</td>\n",
       "      <td>http://sharkattackfile.net/spreadsheets/pdf_di...</td>\n",
       "      <td>N</td>\n",
       "      <td>Forearm bitten by hooked shark PROVOKED INCIDENT</td>\n",
       "      <td>20-Aug-2007</td>\n",
       "    </tr>\n",
       "    <tr>\n",
       "      <th>1339</th>\n",
       "      <td>2009.01.10.R</td>\n",
       "      <td>2009.0</td>\n",
       "      <td>Boat</td>\n",
       "      <td>new zealand</td>\n",
       "      <td>North Island</td>\n",
       "      <td>Hawkes Bay</td>\n",
       "      <td>Fishing</td>\n",
       "      <td>Bry &amp; David Mossman &amp; 2 friends</td>\n",
       "      <td>NaN</td>\n",
       "      <td>NaN</td>\n",
       "      <td>NaN</td>\n",
       "      <td>Mako shark, 3m</td>\n",
       "      <td>http://sharkattackfile.net/spreadsheets/pdf_di...</td>\n",
       "      <td>N</td>\n",
       "      <td>No injury to occupants, shark hit boat &amp; bit o...</td>\n",
       "      <td>10-Jan-2009</td>\n",
       "    </tr>\n",
       "    <tr>\n",
       "      <th>2312</th>\n",
       "      <td>1998.12.15</td>\n",
       "      <td>1998.0</td>\n",
       "      <td>Unprovoked</td>\n",
       "      <td>australia</td>\n",
       "      <td>South Australia</td>\n",
       "      <td>Middleton Beach</td>\n",
       "      <td>Surfing</td>\n",
       "      <td>NaN</td>\n",
       "      <td>F</td>\n",
       "      <td>21</td>\n",
       "      <td>Afternoon</td>\n",
       "      <td>NaN</td>\n",
       "      <td>http://sharkattackfile.net/spreadsheets/pdf_di...</td>\n",
       "      <td>N</td>\n",
       "      <td>Leg injured</td>\n",
       "      <td>15-Dec-1998</td>\n",
       "    </tr>\n",
       "  </tbody>\n",
       "</table>\n",
       "</div>"
      ],
      "text/plain": [
       "       case_number    year        type      country             area  \\\n",
       "1587    2006.10.10  2006.0  Unprovoked          usa          Florida   \n",
       "372     2016.10.21  2016.0  Unprovoked          usa           Hawaii   \n",
       "1508    2007.08.20  2007.0    Provoked          usa         Delaware   \n",
       "1339  2009.01.10.R  2009.0        Boat  new zealand     North Island   \n",
       "2312    1998.12.15  1998.0  Unprovoked    australia  South Australia   \n",
       "\n",
       "                                location activity  \\\n",
       "1587       Daytona Beach, Volusia County  Surfing   \n",
       "372              Hooipa Beach Park, Maui  Surfing   \n",
       "1508  Indian River Inlet, Rehoboth Beach  Fishing   \n",
       "1339                          Hawkes Bay  Fishing   \n",
       "2312                     Middleton Beach  Surfing   \n",
       "\n",
       "                                 name sex_  age       time         species_  \\\n",
       "1587                        Kyle Cody    M   20      11h30              NaN   \n",
       "372                    Federico Jaime    M   36      17h00   6' to 8' shark   \n",
       "1508                             male    M  NaN      19h45  Sandtiger shark   \n",
       "1339  Bry & David Mossman & 2 friends  NaN  NaN        NaN   Mako shark, 3m   \n",
       "2312                              NaN    F   21  Afternoon              NaN   \n",
       "\n",
       "                                                   href fatal_(y/n)  \\\n",
       "1587  http://sharkattackfile.net/spreadsheets/pdf_di...           N   \n",
       "372   http://sharkattackfile.net/spreadsheets/pdf_di...           N   \n",
       "1508  http://sharkattackfile.net/spreadsheets/pdf_di...           N   \n",
       "1339  http://sharkattackfile.net/spreadsheets/pdf_di...           N   \n",
       "2312  http://sharkattackfile.net/spreadsheets/pdf_di...           N   \n",
       "\n",
       "                                                 injury             date  \n",
       "1587                                  Left ankle bitten      10-Oct-2006  \n",
       "372                            Left arm and leg injured      21-Oct-2016  \n",
       "1508   Forearm bitten by hooked shark PROVOKED INCIDENT      20-Aug-2007  \n",
       "1339  No injury to occupants, shark hit boat & bit o...      10-Jan-2009  \n",
       "2312                                        Leg injured      15-Dec-1998  "
      ]
     },
     "execution_count": 9,
     "metadata": {},
     "output_type": "execute_result"
    }
   ],
   "source": [
    "df = pd.read_csv(\"attacks_columnas_limpias.csv\", index_col = 0)\n",
    "df.sample(5)"
   ]
  },
  {
   "cell_type": "markdown",
   "metadata": {},
   "source": [
    "<font color = 'sky blue'> EJERCICIO 1: Lo primero qué tenemos que evaluar es en que columnas tenemos nulos y que cantidad tenemos en cada una. ¿Hay alguna columna con una gran cantidad de nulos? En caso de que sea así deberemos eliminarla."
   ]
  },
  {
   "cell_type": "code",
   "execution_count": 10,
   "metadata": {},
   "outputs": [
    {
     "data": {
      "text/html": [
       "<div>\n",
       "<style scoped>\n",
       "    .dataframe tbody tr th:only-of-type {\n",
       "        vertical-align: middle;\n",
       "    }\n",
       "\n",
       "    .dataframe tbody tr th {\n",
       "        vertical-align: top;\n",
       "    }\n",
       "\n",
       "    .dataframe thead th {\n",
       "        text-align: right;\n",
       "    }\n",
       "</style>\n",
       "<table border=\"1\" class=\"dataframe\">\n",
       "  <thead>\n",
       "    <tr style=\"text-align: right;\">\n",
       "      <th></th>\n",
       "      <th>columna</th>\n",
       "      <th>porcentaje</th>\n",
       "    </tr>\n",
       "  </thead>\n",
       "  <tbody>\n",
       "    <tr>\n",
       "      <th>0</th>\n",
       "      <td>case_number</td>\n",
       "      <td>0.015913</td>\n",
       "    </tr>\n",
       "    <tr>\n",
       "      <th>1</th>\n",
       "      <td>year</td>\n",
       "      <td>0.000000</td>\n",
       "    </tr>\n",
       "    <tr>\n",
       "      <th>2</th>\n",
       "      <td>type</td>\n",
       "      <td>0.063654</td>\n",
       "    </tr>\n",
       "    <tr>\n",
       "      <th>3</th>\n",
       "      <td>country</td>\n",
       "      <td>0.795672</td>\n",
       "    </tr>\n",
       "    <tr>\n",
       "      <th>4</th>\n",
       "      <td>area</td>\n",
       "      <td>7.224698</td>\n",
       "    </tr>\n",
       "    <tr>\n",
       "      <th>5</th>\n",
       "      <td>location</td>\n",
       "      <td>8.577339</td>\n",
       "    </tr>\n",
       "    <tr>\n",
       "      <th>6</th>\n",
       "      <td>activity</td>\n",
       "      <td>8.625080</td>\n",
       "    </tr>\n",
       "    <tr>\n",
       "      <th>7</th>\n",
       "      <td>name</td>\n",
       "      <td>3.325907</td>\n",
       "    </tr>\n",
       "    <tr>\n",
       "      <th>8</th>\n",
       "      <td>sex_</td>\n",
       "      <td>8.975175</td>\n",
       "    </tr>\n",
       "    <tr>\n",
       "      <th>9</th>\n",
       "      <td>age</td>\n",
       "      <td>44.875875</td>\n",
       "    </tr>\n",
       "    <tr>\n",
       "      <th>10</th>\n",
       "      <td>time</td>\n",
       "      <td>53.150859</td>\n",
       "    </tr>\n",
       "    <tr>\n",
       "      <th>11</th>\n",
       "      <td>species_</td>\n",
       "      <td>45.050923</td>\n",
       "    </tr>\n",
       "    <tr>\n",
       "      <th>12</th>\n",
       "      <td>href</td>\n",
       "      <td>0.000000</td>\n",
       "    </tr>\n",
       "    <tr>\n",
       "      <th>13</th>\n",
       "      <td>fatal_(y/n)</td>\n",
       "      <td>8.497772</td>\n",
       "    </tr>\n",
       "    <tr>\n",
       "      <th>14</th>\n",
       "      <td>injury</td>\n",
       "      <td>0.445576</td>\n",
       "    </tr>\n",
       "    <tr>\n",
       "      <th>15</th>\n",
       "      <td>date</td>\n",
       "      <td>0.000000</td>\n",
       "    </tr>\n",
       "  </tbody>\n",
       "</table>\n",
       "</div>"
      ],
      "text/plain": [
       "        columna  porcentaje\n",
       "0   case_number    0.015913\n",
       "1          year    0.000000\n",
       "2          type    0.063654\n",
       "3       country    0.795672\n",
       "4          area    7.224698\n",
       "5      location    8.577339\n",
       "6      activity    8.625080\n",
       "7          name    3.325907\n",
       "8          sex_    8.975175\n",
       "9           age   44.875875\n",
       "10         time   53.150859\n",
       "11     species_   45.050923\n",
       "12         href    0.000000\n",
       "13  fatal_(y/n)    8.497772\n",
       "14       injury    0.445576\n",
       "15         date    0.000000"
      ]
     },
     "execution_count": 10,
     "metadata": {},
     "output_type": "execute_result"
    }
   ],
   "source": [
    "nulos = pd.DataFrame((df.isnull().sum() * 100) / df.shape[0]).reset_index()\n",
    "nulos.columns = [\"columna\", \"porcentaje\"]\n",
    "nulos"
   ]
  },
  {
   "cell_type": "markdown",
   "metadata": {},
   "source": [
    "<font color = 'sky blue'> EJERCICIO 2:\n",
    " - Reemplazad los valores nulos de la columna age por la media de la edad, redondeada a dos decimales."
   ]
  },
  {
   "cell_type": "code",
   "execution_count": 11,
   "metadata": {},
   "outputs": [],
   "source": [
    "df['age'].fillna(df['age'].median ,inplace = True)"
   ]
  },
  {
   "cell_type": "code",
   "execution_count": 12,
   "metadata": {},
   "outputs": [
    {
     "data": {
      "text/plain": [
       "case_number       1\n",
       "year              0\n",
       "type              4\n",
       "country          50\n",
       "area            454\n",
       "location        539\n",
       "activity        542\n",
       "name            209\n",
       "sex_            564\n",
       "age               0\n",
       "time           3340\n",
       "species_       2831\n",
       "href              0\n",
       "fatal_(y/n)     534\n",
       "injury           28\n",
       "date              0\n",
       "dtype: int64"
      ]
     },
     "execution_count": 12,
     "metadata": {},
     "output_type": "execute_result"
    }
   ],
   "source": [
    "df.isnull().sum()"
   ]
  },
  {
   "cell_type": "markdown",
   "metadata": {},
   "source": [
    "<font color = 'sky blue'> \n",
    " - En relación a la columna de country al tratarse de una columna de tipo categórica, reemplazad los valores nulos por una nueva categória que se llame Unknown."
   ]
  },
  {
   "cell_type": "code",
   "execution_count": 14,
   "metadata": {},
   "outputs": [],
   "source": [
    "df['country'].replace(np.nan, \"Unknown\", inplace = True)"
   ]
  },
  {
   "cell_type": "code",
   "execution_count": 15,
   "metadata": {},
   "outputs": [
    {
     "data": {
      "text/plain": [
       "case_number       1\n",
       "year              0\n",
       "type              4\n",
       "country           0\n",
       "area            454\n",
       "location        539\n",
       "activity        542\n",
       "name            209\n",
       "sex_            564\n",
       "age               0\n",
       "time           3340\n",
       "species_       2831\n",
       "href              0\n",
       "fatal_(y/n)     534\n",
       "injury           28\n",
       "date              0\n",
       "dtype: int64"
      ]
     },
     "execution_count": 15,
     "metadata": {},
     "output_type": "execute_result"
    }
   ],
   "source": [
    "df.isnull().sum()"
   ]
  },
  {
   "cell_type": "markdown",
   "metadata": {},
   "source": [
    "<font color = 'sky blue'> - Reemplazad los valores nulos de la columna fatal por Unknown"
   ]
  },
  {
   "cell_type": "code",
   "execution_count": 17,
   "metadata": {},
   "outputs": [],
   "source": [
    "df['fatal_(y/n)'].replace(np.nan, \"Unknown\", inplace = True)"
   ]
  },
  {
   "cell_type": "code",
   "execution_count": 18,
   "metadata": {},
   "outputs": [
    {
     "data": {
      "text/plain": [
       "case_number       1\n",
       "year              0\n",
       "type              4\n",
       "country           0\n",
       "area            454\n",
       "location        539\n",
       "activity        542\n",
       "name            209\n",
       "sex_            564\n",
       "age               0\n",
       "time           3340\n",
       "species_       2831\n",
       "href              0\n",
       "fatal_(y/n)       0\n",
       "injury           28\n",
       "date              0\n",
       "dtype: int64"
      ]
     },
     "execution_count": 18,
     "metadata": {},
     "output_type": "execute_result"
    }
   ],
   "source": [
    "df.isnull().sum()"
   ]
  },
  {
   "cell_type": "markdown",
   "metadata": {},
   "source": [
    "<font color = 'sky blue'> - Reemplazad los valores nulos de la columna type por el valor más frecuente (la moda)"
   ]
  },
  {
   "cell_type": "code",
   "execution_count": 20,
   "metadata": {},
   "outputs": [],
   "source": [
    "df[\"type\"].replace(np.nan, df.type.mode()[0], inplace = True)"
   ]
  },
  {
   "cell_type": "code",
   "execution_count": 21,
   "metadata": {},
   "outputs": [
    {
     "data": {
      "text/plain": [
       "case_number       1\n",
       "year              0\n",
       "type              0\n",
       "country           0\n",
       "area            454\n",
       "location        539\n",
       "activity        542\n",
       "name            209\n",
       "sex_            564\n",
       "age               0\n",
       "time           3340\n",
       "species_       2831\n",
       "href              0\n",
       "fatal_(y/n)       0\n",
       "injury           28\n",
       "date              0\n",
       "dtype: int64"
      ]
     },
     "execution_count": 21,
     "metadata": {},
     "output_type": "execute_result"
    }
   ],
   "source": [
    "df.isnull().sum()"
   ]
  },
  {
   "cell_type": "markdown",
   "metadata": {},
   "source": [
    "<font color = 'sky blue'> - Reemplazad los valores nulos de la columna fecha por Unknown"
   ]
  },
  {
   "cell_type": "code",
   "execution_count": 22,
   "metadata": {},
   "outputs": [],
   "source": [
    "df['date'].replace(np.nan, \"Unknown\", inplace = True)"
   ]
  },
  {
   "cell_type": "code",
   "execution_count": 23,
   "metadata": {},
   "outputs": [
    {
     "data": {
      "text/plain": [
       "case_number       1\n",
       "year              0\n",
       "type              0\n",
       "country           0\n",
       "area            454\n",
       "location        539\n",
       "activity        542\n",
       "name            209\n",
       "sex_            564\n",
       "age               0\n",
       "time           3340\n",
       "species_       2831\n",
       "href              0\n",
       "fatal_(y/n)       0\n",
       "injury           28\n",
       "date              0\n",
       "dtype: int64"
      ]
     },
     "execution_count": 23,
     "metadata": {},
     "output_type": "execute_result"
    }
   ],
   "source": [
    "df.isnull().sum()"
   ]
  },
  {
   "cell_type": "markdown",
   "metadata": {},
   "source": [
    "<font color = 'sky blue'>  EJERCICIO 3: Guardad el csv para seguir trabajando con el en los siguientes ejercicios de pair"
   ]
  },
  {
   "cell_type": "code",
   "execution_count": null,
   "metadata": {},
   "outputs": [],
   "source": [
    "df.to_csv('attacks_columnas_nulos_limpios.csv')"
   ]
  },
  {
   "cell_type": "markdown",
   "metadata": {},
   "source": [
    "<font color = 'red'>(está todo hecho pero no nos da error al abrir el df. \n",
    "Dice: recursion error: maximum recursion depth exceeded while calling a Python object)"
   ]
  }
 ],
 "metadata": {
  "kernelspec": {
   "display_name": "Python 3.9.7 ('base')",
   "language": "python",
   "name": "python3"
  },
  "language_info": {
   "codemirror_mode": {
    "name": "ipython",
    "version": 3
   },
   "file_extension": ".py",
   "mimetype": "text/x-python",
   "name": "python",
   "nbconvert_exporter": "python",
   "pygments_lexer": "ipython3",
   "version": "3.9.7"
  },
  "orig_nbformat": 4,
  "vscode": {
   "interpreter": {
    "hash": "ef996a58dd4038b19127a5b342ff558a720418179ddf7c29df6339888c2ae8ac"
   }
  }
 },
 "nbformat": 4,
 "nbformat_minor": 2
}
