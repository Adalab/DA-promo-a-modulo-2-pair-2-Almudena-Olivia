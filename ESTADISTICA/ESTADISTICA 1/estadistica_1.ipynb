{
 "cells": [
  {
   "cell_type": "markdown",
   "metadata": {},
   "source": [
    "# Estadística I:\n",
    "\n",
    "\n",
    "## Estadística descriptiva:\n",
    "\n",
    "En estadística descriptiva se utilizan distintas medidas para intentar describir las propiedades de nuestros datos. En esta lección vamos a aprender a calcular algunas de esas medidas.\n",
    "\n",
    "El propio Python tiene muchas funciones built-in (o integradas) que nos permiten realizar cálculos estadísticos básicos. Para operaciones más avanzadas, la librería que se usan de manera más común es Numpy principalmente. Scipy es otra librería popular que sirve como complemento idóneo a Numpy. Pandas se usa sobre todo para leer, cargar, y procesar los datos antes de los cálculos, pero se usa mucho para cálculos estadísticos en entornos financieros y cuando se trabaja con series temporales. \n",
    "\n",
    "Matplotlib y Seaborn son los paquetes usados más comúnmente para realizar visualizaciones y representar gráficas acerca de los datos y sus estadísticos."
   ]
  },
  {
   "cell_type": "code",
   "execution_count": 2,
   "metadata": {},
   "outputs": [],
   "source": [
    "## Importación de librerías\n",
    "\n",
    "import numpy as np\n",
    "from scipy import stats # importando scipy.stats"
   ]
  },
  {
   "cell_type": "markdown",
   "metadata": {},
   "source": [
    "### Media: \n",
    "\n",
    "La media aritmética es el valor obtenido al sumar todos los datos y dividir el resultado entre el número total de elementos. En el siguiente ejemplo vemos como se puede calcular usando Numpy de distintas maneras:"
   ]
  },
  {
   "cell_type": "code",
   "execution_count": 2,
   "metadata": {},
   "outputs": [
    {
     "name": "stdout",
     "output_type": "stream",
     "text": [
      "[[-0.48676122  0.63749214  1.43668038 -0.57744874]\n",
      " [ 1.14654076 -2.25519436 -0.42134703 -1.64585554]\n",
      " [-0.23551981 -1.28128716 -0.23094289  0.56677852]\n",
      " [ 1.62387734 -0.02876094  0.21234368 -1.21073697]\n",
      " [-0.55994189 -1.15009524 -0.18747004  0.62574179]]\n",
      "-0.2010953606487207\n",
      "-0.2010953606487207\n",
      "[ 0.25249064 -0.79396404 -0.29524283  0.14918078 -0.31794134]\n",
      "[ 0.29763904 -0.81556911  0.16185282 -0.44830419]\n"
     ]
    }
   ],
   "source": [
    "# Creamos unos datos de prueba aleatorios (matriz de 5x4)\n",
    "datos = np.random.randn(5, 4)\n",
    "print(datos)\n",
    "# media arítmetica usando un método de numpy array (se hace la media de toda la matriz)\n",
    "print(datos.mean())\n",
    "# media arítmetica usando un método general de numpy (el resultado es el mismo que antes)\n",
    "print(np.mean(datos))\n",
    "print(datos.mean(axis=1)) # media aritmetica para cada fila del array\n",
    "print(datos.mean(axis=0)) # media aritmetica de cada columna del array\n"
   ]
  },
  {
   "cell_type": "markdown",
   "metadata": {},
   "source": [
    "### Desviación respecto a la media: \n",
    "\n",
    "La desviación respecto a la media es la diferencia en valor absoluto entre cada valor de los datos y su media aritmética. Nos indica la distancia que tiene cada valor respecto a su media. Aquellos valores que estén muy alejados podrían estar afectados por algún tipo de ruido y ser candidatos para una limpieza. Sin embargo, si disponemos solo de esta medida (la desviación respecto a la media) nos faltaría la referencia de cuáles son distancias grandes y cuales no. Otras medidas como la varianza nos aportarán esa información, aunque su cálculo es menos intuitivo.\n",
    "\n",
    "Para el cálculo de este estadístico, primero obtendremos la media aritmética de los datos, para luego calcular la diferencia absoluta (usando el método *abs()* de Numpy) de cada datos respecto a la media:"
   ]
  },
  {
   "cell_type": "code",
   "execution_count": 3,
   "metadata": {},
   "outputs": [
    {
     "name": "stdout",
     "output_type": "stream",
     "text": [
      "[[-0.48869926 -1.44445808  0.73346495  0.02971284]\n",
      " [-1.14408941  0.52979493 -1.25351318 -1.24141058]\n",
      " [ 0.05937022  2.22328159  0.71853964  1.14821463]\n",
      " [-1.17378585  0.19639554 -0.18199135  0.40171338]\n",
      " [ 2.06467161 -0.76815647 -0.56560162 -0.56776992]]\n",
      "-0.036215818758242355\n",
      "[[0.45248344 1.40824227 0.76968077 0.06592866]\n",
      " [1.10787359 0.56601075 1.21729736 1.20519476]\n",
      " [0.09558604 2.25949741 0.75475546 1.18443045]\n",
      " [1.13757004 0.23261136 0.14577553 0.4379292 ]\n",
      " [2.10088743 0.73194065 0.5293858  0.5315541 ]]\n"
     ]
    }
   ],
   "source": [
    "# Creamos unos datos de prueba aleatorios (matriz de 5x4)\n",
    "datos = np.random.randn(5, 4)\n",
    "print(datos)\n",
    "# media arítmetica usando un método de los numpy array (se hace la media de toda la matriz)\n",
    "media = datos.mean()\n",
    "print(media)\n",
    "#Calculamos la diferencia respecto a la media para cada elemento de la matriz\n",
    "desviacion_media = np.abs(datos-media)\n",
    "print(desviacion_media)\n"
   ]
  },
  {
   "cell_type": "markdown",
   "metadata": {},
   "source": [
    "### Varianza: \n",
    "\n",
    "La varianza intenta describir la dispersión del conjunto de los datos, dando un único valor, a diferencia de la desviación respecto a la media que nos da el valor individual para cada entrada de los datos. Gracias a su uso, podemos tener una referencia contra la que comparar las desviaciones respecto a la media y saber si un dato concreto se aleja \"mucho\" de la media o no.\n",
    "\n",
    "La varianza se calcula como la media aritmética del cuadrado de las desviaciones respecto a la media, para todos los datos. Por suerte no hay que programarla a mano, y Numpy nos proporciona el método *var()* para su cálculo: "
   ]
  },
  {
   "cell_type": "code",
   "execution_count": 4,
   "metadata": {},
   "outputs": [
    {
     "name": "stdout",
     "output_type": "stream",
     "text": [
      "0.8594573177142719\n",
      "[0.17670387 0.41752852 0.19421096 2.20528392]\n",
      "[0.24684401 1.39080094 0.16833202 0.38127455 1.03916472]\n"
     ]
    }
   ],
   "source": [
    "# Creamos unos datos de prueba aleatorios (matriz de 5x4)\n",
    "datos = np.random.randn(5, 4)\n",
    "\n",
    "print(np.var(datos)) # varianza para todos los datos\n",
    "print(np.var(datos, 0)) # varianza de cada columna\n",
    "print(np.var(datos, 1)) # varianza de cada fila"
   ]
  },
  {
   "cell_type": "markdown",
   "metadata": {},
   "source": [
    "### Desviación típica: \n",
    "\n",
    "La desviación típica es la raíz cuadrada de la varianza. Se le da el mismo uso que a esta, quizá con la ventaja de que nos proporciona valores de una magnitud más relacionable con las entradas de datos, la media, etc., al deshacernos de las potencias en la formula de la varianza. Su cálculo también se facilita con el uso del método *std()* de Numpy:"
   ]
  },
  {
   "cell_type": "code",
   "execution_count": 5,
   "metadata": {},
   "outputs": [
    {
     "name": "stdout",
     "output_type": "stream",
     "text": [
      "1.0747219194280573\n",
      "[0.68489406 1.20061319 0.96657147 1.11156847]\n",
      "[0.6955062  1.47864278 0.57647505 0.76726278 1.02997321]\n"
     ]
    }
   ],
   "source": [
    "# Creamos unos datos de prueba aleatorios (matriz de 5x4)\n",
    "datos = np.random.randn(5, 4)\n",
    "\n",
    "print(np.std(datos)) # desviación típica para todos los datos\n",
    "print(np.std(datos, 0)) # desviación típica de cada columna\n",
    "print(np.std(datos, 1)) # desviación típica de cada fila"
   ]
  },
  {
   "cell_type": "markdown",
   "metadata": {},
   "source": [
    "### Moda:  \n",
    "\n",
    "La moda es el valor que tiene mayor frecuencia absoluta de entre todos los datos, es decir, el valor que más veces se repite. En este caso, para su cálculo haremos uso de la librería Scipy, concretamente de su paquete *stats*, el cual contiene muchos métodos para calcular estadísticos. Para el cálculo de la moda usaremos *mode()*:"
   ]
  },
  {
   "cell_type": "code",
   "execution_count": 6,
   "metadata": {},
   "outputs": [
    {
     "name": "stdout",
     "output_type": "stream",
     "text": [
      "[[-1.44714719 -0.62928818 -1.28902625 -0.26283781]]\n",
      "[[1 1 1 1]]\n",
      "[[-0.19160513]\n",
      " [-0.26283781]\n",
      " [-0.62928818]\n",
      " [-1.44714719]\n",
      " [-1.19506154]]\n",
      "[[1]\n",
      " [1]\n",
      " [1]\n",
      " [1]\n",
      " [1]]\n",
      "[-1.44714719]\n",
      "[1]\n"
     ]
    }
   ],
   "source": [
    "# Creamos unos datos de prueba aleatorios (matriz de 5x4)\n",
    "datos = np.random.randn(5, 4)\n",
    "moda, frecuencia = stats.mode(datos) # Calcula la moda de cada columna\n",
    "print(moda) # el 1er array devuelve la moda.\n",
    "print(frecuencia) # el 2do array devuelve la frecuencia de cada elemento.\n",
    "\n",
    "# Con mode() se calcula la moda por columna por defecto. \n",
    "# Si queremos calcularla para filas o todo el conjunto de datos,\n",
    "# haremos uso del parámetro axis:\n",
    "moda, frecuencia = stats.mode(datos, axis=1) # Calcula la moda de cada fila\n",
    "print(moda) # el 1er array devuelve la moda.\n",
    "print(frecuencia) # el 2do array devuelve la frecuencia de cada elemento.\n",
    "\n",
    "moda, frecuencia = stats.mode(datos, axis=None) # Calcula la moda de todos los datos\n",
    "print(moda) # el 1er array devuelve la moda.\n",
    "print(frecuencia) # el 2do array devuelve la frecuencia de cada elemento."
   ]
  },
  {
   "cell_type": "markdown",
   "metadata": {},
   "source": [
    "### Mediana: \n",
    "\n",
    "La mediana es el valor que ocupa el lugar central de una lista formada por todos los datos ordenados por su valor. Para su cálculo haremos uso del método *median()* de Numpy: "
   ]
  },
  {
   "cell_type": "code",
   "execution_count": 7,
   "metadata": {},
   "outputs": [
    {
     "name": "stdout",
     "output_type": "stream",
     "text": [
      "-0.10459525888229532\n",
      "[-0.29355659  0.05888365 -0.30737415 -0.05168941]\n",
      "[-0.08166674  0.51302508  0.00359712 -0.05843259 -0.42653646]\n"
     ]
    }
   ],
   "source": [
    "# Creamos unos datos de prueba aleatorios (matriz de 5x4)\n",
    "datos = np.random.randn(5, 4)\n",
    "print(np.median(datos)) # mediana para todos los datos\n",
    "print(np.median(datos, 0)) # mediana de cada columna\n",
    "print(np.median(datos, 1)) # mediana de cada fila\n"
   ]
  },
  {
   "cell_type": "markdown",
   "metadata": {},
   "source": [
    "### Media ponderada: \n",
    "\n",
    "La media ponderada (con con pesos) es una variación de la media aritmética en la que buscamos que cada dato tenga una importancia diferente para el cáculo. Se obtiene mediante la multiplicación de cada uno de los datos por un peso antes de sumarlos todos, obteniendo así una suma ponderada; después se divide la suma de los datos ponderados entre la suma de los pesos."
   ]
  },
  {
   "cell_type": "code",
   "execution_count": null,
   "metadata": {},
   "outputs": [],
   "source": [
    "# Creamos unos datos de prueba aleatorios (array de 5 elementos)\n",
    "datos = np.random.randn(5)\n",
    "# Creamos un array con pesos. En este caso le damos el mismo peso a todos los valores. \n",
    "# Necesitamos un peso para cada elemento que componga la media ponderada (5 en este caso)\n",
    "w = np.ones(5, dtype=np.complex64)\n",
    "# Calculamos la media ponderada usando el método average() de Numpy\n",
    "avg = np.average(datos, weights=w)\n",
    "print(avg)"
   ]
  },
  {
   "cell_type": "markdown",
   "metadata": {},
   "source": [
    "### Robustez:\n",
    "\n",
    "Un conjunto de datos puede describirse con los estadísticos básicos que hemos visto hasta ahora, sin embargo, estos estadísticos pueden ser más o menos precisos en su descripción del total, dependiendo de varios factores. Por ejemplo, si calculamos la media o la varianza a partir de una muestra muy pequeña de datos, estos valores pueden no ser suficientemente representativos del conjunto global. Adicionalmente, la aparición de valores inusualmente altos o bajos (debido a ruido, situaciones inusuales, etc.) puede hacer que algunos estadísticos varíen su valor enormemente. Es por eso que se les considera estadísticos poco robustos. De todas formas, normalmente, cuanto más cantidad de datos hayamos usado para calcular los estadísticos, más robustos serán estos, ya que la influencia de unos pocos datos inusuales sobre el total de los mismos será menor. \n",
    "\n",
    "Podemos definir el \"punto de ruptura\" de un estadístico como la fracción de los datos a los que podríamos dar valores arbitrarios sin hacer que el estadístico se vea tan afectado como para no se útil.\n",
    "Por ejemplo, en el caso de la media aritmética calculada sobre *n* datos, con solo cambiar uno de ellos lo suficiente, la media dejaría de resultar útil para describir los datos. Por lo tanto su \"punto de ruptura\" expresado como una función de *n* seria *1/n*.\n",
    "\n",
    "**Ejercicio:** ¿Cual es el punto de ruptura de la varianza?\n",
    "\n",
    "\n",
    "**Ejercicio:** ¿Cuál de estos dos es un estadístico más robusto: desviación típica o moda?\n"
   ]
  },
  {
   "cell_type": "markdown",
   "metadata": {},
   "source": [
    "### Coeficiente de variación: \n",
    "\n",
    "Estadístico que se usa para hacer referencia a la relación entre el tamaño de la media y la variabilidad de la variable. **Se calcula como el cociente entre la desviación típica y la media**. \n",
    "\n",
    "Si su valor es bajo, significará que el conjunto de datos es homogéneo y que no hay valores que se separen demasiado de la media. Si por el contrario el coeficiente de variación es grande, la distribución de los datos será mucho más heterogénea, con grandes distancias entre algunas de las muestras (estarán más dispersos). Este segundo caso nos indicará que los estadísticos menos robustos  "
   ]
  },
  {
   "cell_type": "code",
   "execution_count": null,
   "metadata": {},
   "outputs": [],
   "source": [
    "# Creamos unos datos de prueba aleatorios (matriz de 5x4)\n",
    "datos = np.random.randn(5, 4)\n",
    "\n",
    "print(np.mean(datos)) # media para todos los datos\n",
    "print(np.std(datos)) # desviación típica para todos los datos\n",
    "print(np.std(datos) / np.abs(np.mean(datos))) # coeficiente de variación\n"
   ]
  },
  {
   "cell_type": "markdown",
   "metadata": {},
   "source": [
    "### Mínimo y máximo: \n",
    "\n",
    "El mínimo y el máximo no necesitan presentación llegados a este punto. Son simplemente el valor más bajo y más alto dentro de un conjunto de datos. Junto con otros estadísticos como la media o la moda, nos pueden dar una idea acerca de la dispersión de los datos o de la existencia de datos atípicos, muy alejados de las observaciones que consideraríamos \"normales\"."
   ]
  },
  {
   "cell_type": "code",
   "execution_count": null,
   "metadata": {},
   "outputs": [],
   "source": [
    "# Creamos unos datos de prueba aleatorios (matriz de 5x4)\n",
    "datos = np.random.randn(5, 4)\n",
    "\n",
    "print(np.max(datos)) # Máximo de entre todos los datos\n",
    "print(np.min(datos)) # Mínimo de entre todos los datos\n",
    "print(np.min(datos, 0)) # Mínimo por columnas\n",
    "print(np.min(datos, 1)) # Mínimo por filas"
   ]
  },
  {
   "cell_type": "markdown",
   "metadata": {},
   "source": [
    "#### EJERCICIOS DE REPASO"
   ]
  },
  {
   "cell_type": "markdown",
   "metadata": {},
   "source": [
    "#### EJERCICIO 1\n",
    "\n",
    "Crea un Numpy array con una fila de 50 datos aleatorios y calcula su media, mediana, moda, máximo y mínimo."
   ]
  },
  {
   "cell_type": "code",
   "execution_count": 11,
   "metadata": {},
   "outputs": [
    {
     "data": {
      "text/plain": [
       "array([18, 31, 20, 31, 46, 45, 14, 37,  7, 44, 49, 35, 49, 43, 39, 10,  3,\n",
       "       39, 46, 43, 36, 29, 11, 41, 45, 18, 16, 25, 49, 29, 16, 26, 35, 40,\n",
       "        0, 38, 37, 42, 37, 17, 46, 10, 18, 38, 29, 26,  3, 45,  2, 22])"
      ]
     },
     "execution_count": 11,
     "metadata": {},
     "output_type": "execute_result"
    }
   ],
   "source": [
    "array1 = np.random.randint(0,50,(50))\n",
    "array1"
   ]
  },
  {
   "cell_type": "code",
   "execution_count": 12,
   "metadata": {},
   "outputs": [
    {
     "name": "stdout",
     "output_type": "stream",
     "text": [
      "Esta es la media del array 1: 29.5\n",
      "Esta es la mediana del array 1: 33.0\n",
      "Esta es la moda del array 1: ModeResult(mode=array([18]), count=array([3]))\n",
      "Este es el mínimo del array 1: 0\n",
      "Este es el máximo del array 1: 49\n"
     ]
    }
   ],
   "source": [
    "# media\n",
    "print('Esta es la media del array 1:', array1.mean())\n",
    "\n",
    "# mediana\n",
    "print('Esta es la mediana del array 1:', np.median(array1))\n",
    "\n",
    "# moda\n",
    "print('Esta es la moda del array 1:', stats.mode(array1, axis = 0))\n",
    "\n",
    "# max y mim\n",
    "print('Este es el mínimo del array 1:', np.min(array1))\n",
    "\n",
    "print('Este es el máximo del array 1:', np.max(array1))"
   ]
  },
  {
   "cell_type": "markdown",
   "metadata": {},
   "source": [
    "#### EJERCICIO 2\n",
    "\n",
    "Sobre el ejercicio anterior, despues de calcular los estadísticos indicados, multiplica el primer elemento de los datos x 1000, calcula su valor absoluto y vuelve a calcular los estadísticos. ¿Qué sucede?\n"
   ]
  },
  {
   "cell_type": "code",
   "execution_count": 14,
   "metadata": {},
   "outputs": [
    {
     "data": {
      "text/plain": [
       "array([18000,    31,    20,    31,    46,    45,    14,    37,     7,\n",
       "          44,    49,    35,    49,    43,    39,    10,     3,    39,\n",
       "          46,    43,    36,    29,    11,    41,    45,    18,    16,\n",
       "          25,    49,    29,    16,    26,    35,    40,     0,    38,\n",
       "          37,    42,    37,    17,    46,    10,    18,    38,    29,\n",
       "          26,     3,    45,     2,    22])"
      ]
     },
     "execution_count": 14,
     "metadata": {},
     "output_type": "execute_result"
    }
   ],
   "source": [
    "# media x1000\n",
    "array2 = array1.copy()\n",
    "array2[0] = array2[0] * 1000\n",
    "array2"
   ]
  },
  {
   "cell_type": "code",
   "execution_count": 16,
   "metadata": {},
   "outputs": [
    {
     "data": {
      "text/plain": [
       "array([18000,    31,    20,    31,    46,    45,    14,    37,     7,\n",
       "          44,    49,    35,    49,    43,    39,    10,     3,    39,\n",
       "          46,    43,    36,    29,    11,    41,    45,    18,    16,\n",
       "          25,    49,    29,    16,    26,    35,    40,     0,    38,\n",
       "          37,    42,    37,    17,    46,    10,    18,    38,    29,\n",
       "          26,     3,    45,     2,    22])"
      ]
     },
     "execution_count": 16,
     "metadata": {},
     "output_type": "execute_result"
    }
   ],
   "source": [
    "# valor absoluto\n",
    "num_absoluto = np.absolute(array2)\n",
    "num_absoluto"
   ]
  },
  {
   "cell_type": "code",
   "execution_count": 17,
   "metadata": {},
   "outputs": [
    {
     "name": "stdout",
     "output_type": "stream",
     "text": [
      "Esta es la media del array 1: 389.14\n",
      "Esta es la mediana del array 1: 35.0\n",
      "Esta es la moda del array 1: ModeResult(mode=array([29]), count=array([3]))\n",
      "Este es el mínimo del array 1: 0\n",
      "Este es el máximo del array 1: 18000\n"
     ]
    }
   ],
   "source": [
    "# media\n",
    "print('Esta es la media del array 1:', array2.mean())\n",
    "\n",
    "# mediana\n",
    "print('Esta es la mediana del array 1:', np.median(array2))\n",
    "\n",
    "# moda\n",
    "print('Esta es la moda del array 1:', stats.mode(array2, axis = 0))\n",
    "\n",
    "# max y mim\n",
    "print('Este es el mínimo del array 1:', np.min(array2))\n",
    "\n",
    "print('Este es el máximo del array 1:', np.max(array2))"
   ]
  },
  {
   "cell_type": "markdown",
   "metadata": {},
   "source": [
    "#### EJERCICIO 3\n",
    "\n",
    "Calcula la desviación respecto a la media del dato en la primera posición de un array de 100 datos aleatorios. ¿Puedes sacar alguna conclusón sobre el dato viendo este valor?\n"
   ]
  },
  {
   "cell_type": "markdown",
   "metadata": {},
   "source": [
    "#### EJERCICIO 4\n",
    "\n",
    "Sobre el ejercicio anterior, calcula también la media de la desviación respecto a la media para todos los datos del array. ¿Ahora nos aporta algo más de información la desviación respecto a la media del primer elemento?"
   ]
  },
  {
   "cell_type": "markdown",
   "metadata": {},
   "source": [
    "#### EJERCICIO 5\n",
    "\n",
    "Calcula la desviación estándar, la varianza y el coeficiente de varianza de un array de 100 datos aleatorios. Luego modifica un dato multiplicándolo por 10 y vuelve a calcular los mismos estadísticos. ¿Qué sucede?"
   ]
  }
 ],
 "metadata": {
  "interpreter": {
   "hash": "b3ba2566441a7c06988d0923437866b63cedc61552a5af99d1f4fb67d367b25f"
  },
  "kernelspec": {
   "display_name": "Python 3.7.6 64-bit ('base': conda)",
   "language": "python",
   "name": "python3"
  },
  "language_info": {
   "codemirror_mode": {
    "name": "ipython",
    "version": 3
   },
   "file_extension": ".py",
   "mimetype": "text/x-python",
   "name": "python",
   "nbconvert_exporter": "python",
   "pygments_lexer": "ipython3",
   "version": "3.9.7"
  },
  "orig_nbformat": 4
 },
 "nbformat": 4,
 "nbformat_minor": 2
}
