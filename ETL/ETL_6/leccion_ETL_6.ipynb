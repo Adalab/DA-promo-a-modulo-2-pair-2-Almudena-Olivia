{
 "cells": [
  {
   "cell_type": "markdown",
   "metadata": {
    "toc": true
   },
   "source": [
    "<h1>Table of Contents<span class=\"tocSkip\"></span></h1>\n",
    "<div class=\"toc\"><ul class=\"toc-item\"><li><span><a href=\"#¿Qué-es-una-pipeline?\" data-toc-modified-id=\"¿Qué-es-una-pipeline?-1\"><span class=\"toc-item-num\">1&nbsp;&nbsp;</span>¿Qué es una <em>pipeline</em>?</a></span></li><li><span><a href=\"#¿Qué-es-un-archivo-.py?\" data-toc-modified-id=\"¿Qué-es-un-archivo-.py?-2\"><span class=\"toc-item-num\">2&nbsp;&nbsp;</span>¿Qué es un archivo <code>.py</code>?</a></span></li></ul></div>"
   ]
  },
  {
   "cell_type": "markdown",
   "metadata": {},
   "source": [
    "# ¿Qué es una *pipeline*? "
   ]
  },
  {
   "cell_type": "markdown",
   "metadata": {},
   "source": [
    "Un *pipeline* (o tubería en español) es un tipo de flujo de trabajo fundamental en el análisis de datos. El objetivo es tomar datos que podrían ser no estructurados o de difícil uso o acceso y servir una fuente de datos limpios y estructurados.\n",
    "\n",
    "Hasta ahora hemos estado viendo el proceso de ETL (*Extract*, *Transform* y *Load*), pero como combinamos las ETL con los *pipelines*? \n",
    "\n",
    "Al igual que el proceso de ETL *pipeline*  de ETL consta de tres componentes generales:\n",
    "\n",
    "- *Extraer*:  obtener datos de una fuente como una API.\n",
    "\n",
    "\n",
    "- *Transformar*:  estructurar, formatear o limpiar los datos, dependiendo de para qué los necesitemos y cómo deban entregarse. La transformación de los datos puede ocurrir en muchas etapas del ciclo de vida de los datos, y diferentes usuarios pueden necesitar transformarlos por diferentes razones. \n",
    "\n",
    "\n",
    "- *Cargar*:  escribir los datos a un destino externo donde puedan ser utilizados por otra aplicación, por ejemplo una BBDD de SQL. \n",
    "\n",
    "\n",
    "**¿En qué se diferencia de lo que hemos hecho hasta hoy?**\n",
    "\n",
    "Hoy aprenderemos como meter todo nuestro código creado hasta ahora e introducirlo en un archivo `.py` que ejecutaremos desde nuestras terminales!. "
   ]
  },
  {
   "cell_type": "markdown",
   "metadata": {},
   "source": [
    "# ¿Qué es un archivo `.py`?\n",
    "\n",
    "\n",
    "Como hemos ido aprendiendo, Python es un lenguaje interpretado, esto funciona excelente cuando nos encontramos en el proceso de desarrollo, sin embargo, ¿Qué sucede cuando nuestro proyecto está listo para que el usuario final comience a utilizarlo? \n",
    "\n",
    "Bien, si nuestro script lo usaremos para machine learning, automatización de procesos( como una ETL), en esos casos creo que es aceptable ejecutar el proyecto desde la terminal. Esto *a priori*  nos puede dar un poco de miedo, pero veremos que es mucho más fácil de lo que parece! \n",
    "\n",
    "Pasos que vamos a tener que seguir para hacer nuestro archivo ejecutable `.py`:\n",
    "\n",
    "1. Crearnos un archivo `.py` al que llamaremos `main.py` (el nombre es más convenio que otra cosa, pero le podríamos poner otro nombre).\n",
    "\n",
    "2. Dentro del archivo `main.py` escribiremos nuestro código, que básicamente es el código que hemos ido creando en las lecciones anteriores. \n",
    "\n",
    "3. En la terminal, escribimos `python main.py` y ejecutamos el archivo `main.py`. Puede que nos de error, en ese caso escribid `python3 main.py`. \n",
    "\n",
    "Para más detalles de como construir un archivo `.py` en Python, id a [este](C:\\Users\\agarc\\Documents\\Adalab\\Material-Clase-Adalab\\Modulo-2\\ETL\\datos\\main.py) donde lo tendréis todo explicado paso a paso."
   ]
  },
  {
   "cell_type": "code",
   "execution_count": null,
   "metadata": {},
   "outputs": [],
   "source": []
  },
  {
   "cell_type": "code",
   "execution_count": null,
   "metadata": {},
   "outputs": [],
   "source": []
  },
  {
   "cell_type": "code",
   "execution_count": null,
   "metadata": {},
   "outputs": [],
   "source": []
  },
  {
   "cell_type": "code",
   "execution_count": null,
   "metadata": {},
   "outputs": [],
   "source": []
  }
 ],
 "metadata": {
  "interpreter": {
   "hash": "01140a9d2395b7fd08e2b5f636695eabdb1e49ebcdc5fc3aed86efec2b14b433"
  },
  "kernelspec": {
   "display_name": "Python 3 (ipykernel)",
   "language": "python",
   "name": "python3"
  },
  "language_info": {
   "codemirror_mode": {
    "name": "ipython",
    "version": 3
   },
   "file_extension": ".py",
   "mimetype": "text/x-python",
   "name": "python",
   "nbconvert_exporter": "python",
   "pygments_lexer": "ipython3",
   "version": "3.9.10"
  },
  "toc": {
   "base_numbering": 1,
   "nav_menu": {},
   "number_sections": true,
   "sideBar": true,
   "skip_h1_title": false,
   "title_cell": "Table of Contents",
   "title_sidebar": "Contents",
   "toc_cell": true,
   "toc_position": {},
   "toc_section_display": true,
   "toc_window_display": true
  }
 },
 "nbformat": 4,
 "nbformat_minor": 2
}
