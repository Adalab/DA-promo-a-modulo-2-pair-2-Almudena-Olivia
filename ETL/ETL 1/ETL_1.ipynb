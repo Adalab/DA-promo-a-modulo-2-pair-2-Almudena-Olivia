{
 "cells": [
  {
   "cell_type": "code",
   "execution_count": 1,
   "metadata": {},
   "outputs": [],
   "source": [
    "from IPython.core.interactiveshell import InteractiveShell # Nos permite mostar más de una salida por celda\n",
    "InteractiveShell.ast_node_interactivity = \"all\" # Nos permite mostar más de una salida por celda\n",
    "\n",
    "import requests\n",
    "import pandas as pd\n",
    "import numpy as np"
   ]
  },
  {
   "cell_type": "markdown",
   "metadata": {},
   "source": [
    "<font color = 'orange'>Creamos el df vacío"
   ]
  },
  {
   "cell_type": "code",
   "execution_count": 2,
   "metadata": {},
   "outputs": [],
   "source": [
    "df = pd.DataFrame()"
   ]
  },
  {
   "cell_type": "markdown",
   "metadata": {},
   "source": [
    "<font color = 'orange'>Creamos el diccionario con todas las keys y values, desde donde iteraremos en el bucle for"
   ]
  },
  {
   "cell_type": "code",
   "execution_count": 3,
   "metadata": {},
   "outputs": [],
   "source": [
    "diccionario = {'USA':[39.7837304, -100.445882], 'Australia': [-24.7761086, 134.755], 'South Africa': [-28.8166236, 24.991639],\n",
    "                'New Zealand': [41.5000831, 172.8344077], 'Papua New Guinea': [-5.6816069, 144.2489081]}"
   ]
  },
  {
   "cell_type": "markdown",
   "metadata": {},
   "source": [
    "<font color = 'orange'>Creamos bucle for donde iteramos por cada key del diccionario y, a continuación, lo incluiremos dentro del df vacío."
   ]
  },
  {
   "cell_type": "code",
   "execution_count": 19,
   "metadata": {},
   "outputs": [
    {
     "data": {
      "text/plain": [
       "200"
      ]
     },
     "execution_count": 19,
     "metadata": {},
     "output_type": "execute_result"
    },
    {
     "data": {
      "text/plain": [
       "<bound method Response.json of <Response [200]>>"
      ]
     },
     "execution_count": 19,
     "metadata": {},
     "output_type": "execute_result"
    },
    {
     "name": "stdout",
     "output_type": "stream",
     "text": [
      "USA [39.7837304, -100.445882]\n"
     ]
    },
    {
     "data": {
      "text/plain": [
       "200"
      ]
     },
     "execution_count": 19,
     "metadata": {},
     "output_type": "execute_result"
    },
    {
     "data": {
      "text/plain": [
       "<bound method Response.json of <Response [200]>>"
      ]
     },
     "execution_count": 19,
     "metadata": {},
     "output_type": "execute_result"
    },
    {
     "name": "stdout",
     "output_type": "stream",
     "text": [
      "Australia [-24.7761086, 134.755]\n"
     ]
    },
    {
     "data": {
      "text/plain": [
       "200"
      ]
     },
     "execution_count": 19,
     "metadata": {},
     "output_type": "execute_result"
    },
    {
     "data": {
      "text/plain": [
       "<bound method Response.json of <Response [200]>>"
      ]
     },
     "execution_count": 19,
     "metadata": {},
     "output_type": "execute_result"
    },
    {
     "name": "stdout",
     "output_type": "stream",
     "text": [
      "South Africa [-28.8166236, 24.991639]\n"
     ]
    },
    {
     "data": {
      "text/plain": [
       "200"
      ]
     },
     "execution_count": 19,
     "metadata": {},
     "output_type": "execute_result"
    },
    {
     "data": {
      "text/plain": [
       "<bound method Response.json of <Response [200]>>"
      ]
     },
     "execution_count": 19,
     "metadata": {},
     "output_type": "execute_result"
    },
    {
     "name": "stdout",
     "output_type": "stream",
     "text": [
      "New Zealand [41.5000831, 172.8344077]\n"
     ]
    },
    {
     "data": {
      "text/plain": [
       "200"
      ]
     },
     "execution_count": 19,
     "metadata": {},
     "output_type": "execute_result"
    },
    {
     "data": {
      "text/plain": [
       "<bound method Response.json of <Response [200]>>"
      ]
     },
     "execution_count": 19,
     "metadata": {},
     "output_type": "execute_result"
    },
    {
     "name": "stdout",
     "output_type": "stream",
     "text": [
      "Papua New Guinea [-5.6816069, 144.2489081]\n"
     ]
    }
   ],
   "source": [
    "lat = value[0]\n",
    "lon = value[1]\n",
    "producto = 'meteo'\n",
    "df = pd.DataFrame()\n",
    "\n",
    "for key, value in diccionario.items():\n",
    "    url = f'http://www.7timer.info/bin/api.pl?lon=-{lon}&lat={lat}&product={producto}&output=json'\n",
    "    lat = value[0]\n",
    "    lon = value[1]\n",
    "\n",
    "    response = requests.get(url=url)\n",
    "    response.status_code\n",
    "    response.json\n",
    "    df1 = pd.json_normalize(response.json()['dataseries'])\n",
    "    df1['pais'] = key\n",
    "    df = pd.concat([df, df1], axis=0)\n",
    "\n",
    "    print(key, value)\n"
   ]
  },
  {
   "cell_type": "code",
   "execution_count": 21,
   "metadata": {},
   "outputs": [
    {
     "data": {
      "text/html": [
       "<div>\n",
       "<style scoped>\n",
       "    .dataframe tbody tr th:only-of-type {\n",
       "        vertical-align: middle;\n",
       "    }\n",
       "\n",
       "    .dataframe tbody tr th {\n",
       "        vertical-align: top;\n",
       "    }\n",
       "\n",
       "    .dataframe thead th {\n",
       "        text-align: right;\n",
       "    }\n",
       "</style>\n",
       "<table border=\"1\" class=\"dataframe\">\n",
       "  <thead>\n",
       "    <tr style=\"text-align: right;\">\n",
       "      <th></th>\n",
       "      <th>timepoint</th>\n",
       "      <th>cloudcover</th>\n",
       "      <th>highcloud</th>\n",
       "      <th>midcloud</th>\n",
       "      <th>lowcloud</th>\n",
       "      <th>rh_profile</th>\n",
       "      <th>wind_profile</th>\n",
       "      <th>temp2m</th>\n",
       "      <th>lifted_index</th>\n",
       "      <th>rh2m</th>\n",
       "      <th>msl_pressure</th>\n",
       "      <th>prec_type</th>\n",
       "      <th>prec_amount</th>\n",
       "      <th>snow_depth</th>\n",
       "      <th>wind10m.direction</th>\n",
       "      <th>wind10m.speed</th>\n",
       "      <th>pais</th>\n",
       "    </tr>\n",
       "  </thead>\n",
       "  <tbody>\n",
       "    <tr>\n",
       "      <th>0</th>\n",
       "      <td>3</td>\n",
       "      <td>3</td>\n",
       "      <td>-9999</td>\n",
       "      <td>-9999</td>\n",
       "      <td>-9999</td>\n",
       "      <td>[{'layer': '950mb', 'rh': 13}, {'layer': '900m...</td>\n",
       "      <td>[{'layer': '950mb', 'direction': 100, 'speed':...</td>\n",
       "      <td>27</td>\n",
       "      <td>-1</td>\n",
       "      <td>11</td>\n",
       "      <td>1012</td>\n",
       "      <td>none</td>\n",
       "      <td>1</td>\n",
       "      <td>0</td>\n",
       "      <td>100</td>\n",
       "      <td>3</td>\n",
       "      <td>USA</td>\n",
       "    </tr>\n",
       "    <tr>\n",
       "      <th>1</th>\n",
       "      <td>6</td>\n",
       "      <td>4</td>\n",
       "      <td>-9999</td>\n",
       "      <td>-9999</td>\n",
       "      <td>-9999</td>\n",
       "      <td>[{'layer': '950mb', 'rh': 14}, {'layer': '900m...</td>\n",
       "      <td>[{'layer': '950mb', 'direction': 100, 'speed':...</td>\n",
       "      <td>27</td>\n",
       "      <td>2</td>\n",
       "      <td>11</td>\n",
       "      <td>1013</td>\n",
       "      <td>none</td>\n",
       "      <td>1</td>\n",
       "      <td>0</td>\n",
       "      <td>100</td>\n",
       "      <td>4</td>\n",
       "      <td>USA</td>\n",
       "    </tr>\n",
       "    <tr>\n",
       "      <th>2</th>\n",
       "      <td>9</td>\n",
       "      <td>2</td>\n",
       "      <td>-9999</td>\n",
       "      <td>-9999</td>\n",
       "      <td>-9999</td>\n",
       "      <td>[{'layer': '950mb', 'rh': 14}, {'layer': '900m...</td>\n",
       "      <td>[{'layer': '950mb', 'direction': 95, 'speed': ...</td>\n",
       "      <td>27</td>\n",
       "      <td>-1</td>\n",
       "      <td>11</td>\n",
       "      <td>1013</td>\n",
       "      <td>none</td>\n",
       "      <td>1</td>\n",
       "      <td>0</td>\n",
       "      <td>95</td>\n",
       "      <td>3</td>\n",
       "      <td>USA</td>\n",
       "    </tr>\n",
       "    <tr>\n",
       "      <th>3</th>\n",
       "      <td>12</td>\n",
       "      <td>6</td>\n",
       "      <td>-9999</td>\n",
       "      <td>-9999</td>\n",
       "      <td>-9999</td>\n",
       "      <td>[{'layer': '950mb', 'rh': 13}, {'layer': '900m...</td>\n",
       "      <td>[{'layer': '950mb', 'direction': 95, 'speed': ...</td>\n",
       "      <td>26</td>\n",
       "      <td>-1</td>\n",
       "      <td>11</td>\n",
       "      <td>1012</td>\n",
       "      <td>none</td>\n",
       "      <td>1</td>\n",
       "      <td>0</td>\n",
       "      <td>100</td>\n",
       "      <td>3</td>\n",
       "      <td>USA</td>\n",
       "    </tr>\n",
       "    <tr>\n",
       "      <th>4</th>\n",
       "      <td>15</td>\n",
       "      <td>8</td>\n",
       "      <td>-9999</td>\n",
       "      <td>-9999</td>\n",
       "      <td>-9999</td>\n",
       "      <td>[{'layer': '950mb', 'rh': 11}, {'layer': '900m...</td>\n",
       "      <td>[{'layer': '950mb', 'direction': 90, 'speed': ...</td>\n",
       "      <td>27</td>\n",
       "      <td>-1</td>\n",
       "      <td>11</td>\n",
       "      <td>1013</td>\n",
       "      <td>none</td>\n",
       "      <td>1</td>\n",
       "      <td>0</td>\n",
       "      <td>100</td>\n",
       "      <td>3</td>\n",
       "      <td>USA</td>\n",
       "    </tr>\n",
       "    <tr>\n",
       "      <th>...</th>\n",
       "      <td>...</td>\n",
       "      <td>...</td>\n",
       "      <td>...</td>\n",
       "      <td>...</td>\n",
       "      <td>...</td>\n",
       "      <td>...</td>\n",
       "      <td>...</td>\n",
       "      <td>...</td>\n",
       "      <td>...</td>\n",
       "      <td>...</td>\n",
       "      <td>...</td>\n",
       "      <td>...</td>\n",
       "      <td>...</td>\n",
       "      <td>...</td>\n",
       "      <td>...</td>\n",
       "      <td>...</td>\n",
       "      <td>...</td>\n",
       "    </tr>\n",
       "    <tr>\n",
       "      <th>59</th>\n",
       "      <td>180</td>\n",
       "      <td>9</td>\n",
       "      <td>-9999</td>\n",
       "      <td>-9999</td>\n",
       "      <td>-9999</td>\n",
       "      <td>[{'layer': '950mb', 'rh': 15}, {'layer': '900m...</td>\n",
       "      <td>[{'layer': '950mb', 'direction': 20, 'speed': ...</td>\n",
       "      <td>9</td>\n",
       "      <td>15</td>\n",
       "      <td>13</td>\n",
       "      <td>1005</td>\n",
       "      <td>rain</td>\n",
       "      <td>4</td>\n",
       "      <td>0</td>\n",
       "      <td>20</td>\n",
       "      <td>5</td>\n",
       "      <td>Papua New Guinea</td>\n",
       "    </tr>\n",
       "    <tr>\n",
       "      <th>60</th>\n",
       "      <td>183</td>\n",
       "      <td>4</td>\n",
       "      <td>-9999</td>\n",
       "      <td>-9999</td>\n",
       "      <td>-9999</td>\n",
       "      <td>[{'layer': '950mb', 'rh': 13}, {'layer': '900m...</td>\n",
       "      <td>[{'layer': '950mb', 'direction': 5, 'speed': 5...</td>\n",
       "      <td>9</td>\n",
       "      <td>10</td>\n",
       "      <td>11</td>\n",
       "      <td>1006</td>\n",
       "      <td>none</td>\n",
       "      <td>4</td>\n",
       "      <td>0</td>\n",
       "      <td>5</td>\n",
       "      <td>5</td>\n",
       "      <td>Papua New Guinea</td>\n",
       "    </tr>\n",
       "    <tr>\n",
       "      <th>61</th>\n",
       "      <td>186</td>\n",
       "      <td>6</td>\n",
       "      <td>-9999</td>\n",
       "      <td>-9999</td>\n",
       "      <td>-9999</td>\n",
       "      <td>[{'layer': '950mb', 'rh': 14}, {'layer': '900m...</td>\n",
       "      <td>[{'layer': '950mb', 'direction': 355, 'speed':...</td>\n",
       "      <td>8</td>\n",
       "      <td>15</td>\n",
       "      <td>11</td>\n",
       "      <td>1007</td>\n",
       "      <td>none</td>\n",
       "      <td>4</td>\n",
       "      <td>0</td>\n",
       "      <td>350</td>\n",
       "      <td>5</td>\n",
       "      <td>Papua New Guinea</td>\n",
       "    </tr>\n",
       "    <tr>\n",
       "      <th>62</th>\n",
       "      <td>189</td>\n",
       "      <td>9</td>\n",
       "      <td>-9999</td>\n",
       "      <td>-9999</td>\n",
       "      <td>-9999</td>\n",
       "      <td>[{'layer': '950mb', 'rh': 12}, {'layer': '900m...</td>\n",
       "      <td>[{'layer': '950mb', 'direction': 335, 'speed':...</td>\n",
       "      <td>8</td>\n",
       "      <td>15</td>\n",
       "      <td>10</td>\n",
       "      <td>1009</td>\n",
       "      <td>rain</td>\n",
       "      <td>4</td>\n",
       "      <td>0</td>\n",
       "      <td>335</td>\n",
       "      <td>4</td>\n",
       "      <td>Papua New Guinea</td>\n",
       "    </tr>\n",
       "    <tr>\n",
       "      <th>63</th>\n",
       "      <td>192</td>\n",
       "      <td>9</td>\n",
       "      <td>-9999</td>\n",
       "      <td>-9999</td>\n",
       "      <td>-9999</td>\n",
       "      <td>[{'layer': '950mb', 'rh': 12}, {'layer': '900m...</td>\n",
       "      <td>[{'layer': '950mb', 'direction': 320, 'speed':...</td>\n",
       "      <td>9</td>\n",
       "      <td>15</td>\n",
       "      <td>10</td>\n",
       "      <td>1009</td>\n",
       "      <td>rain</td>\n",
       "      <td>4</td>\n",
       "      <td>0</td>\n",
       "      <td>320</td>\n",
       "      <td>4</td>\n",
       "      <td>Papua New Guinea</td>\n",
       "    </tr>\n",
       "  </tbody>\n",
       "</table>\n",
       "<p>320 rows × 17 columns</p>\n",
       "</div>"
      ],
      "text/plain": [
       "    timepoint  cloudcover  highcloud  midcloud  lowcloud  \\\n",
       "0           3           3      -9999     -9999     -9999   \n",
       "1           6           4      -9999     -9999     -9999   \n",
       "2           9           2      -9999     -9999     -9999   \n",
       "3          12           6      -9999     -9999     -9999   \n",
       "4          15           8      -9999     -9999     -9999   \n",
       "..        ...         ...        ...       ...       ...   \n",
       "59        180           9      -9999     -9999     -9999   \n",
       "60        183           4      -9999     -9999     -9999   \n",
       "61        186           6      -9999     -9999     -9999   \n",
       "62        189           9      -9999     -9999     -9999   \n",
       "63        192           9      -9999     -9999     -9999   \n",
       "\n",
       "                                           rh_profile  \\\n",
       "0   [{'layer': '950mb', 'rh': 13}, {'layer': '900m...   \n",
       "1   [{'layer': '950mb', 'rh': 14}, {'layer': '900m...   \n",
       "2   [{'layer': '950mb', 'rh': 14}, {'layer': '900m...   \n",
       "3   [{'layer': '950mb', 'rh': 13}, {'layer': '900m...   \n",
       "4   [{'layer': '950mb', 'rh': 11}, {'layer': '900m...   \n",
       "..                                                ...   \n",
       "59  [{'layer': '950mb', 'rh': 15}, {'layer': '900m...   \n",
       "60  [{'layer': '950mb', 'rh': 13}, {'layer': '900m...   \n",
       "61  [{'layer': '950mb', 'rh': 14}, {'layer': '900m...   \n",
       "62  [{'layer': '950mb', 'rh': 12}, {'layer': '900m...   \n",
       "63  [{'layer': '950mb', 'rh': 12}, {'layer': '900m...   \n",
       "\n",
       "                                         wind_profile  temp2m  lifted_index  \\\n",
       "0   [{'layer': '950mb', 'direction': 100, 'speed':...      27            -1   \n",
       "1   [{'layer': '950mb', 'direction': 100, 'speed':...      27             2   \n",
       "2   [{'layer': '950mb', 'direction': 95, 'speed': ...      27            -1   \n",
       "3   [{'layer': '950mb', 'direction': 95, 'speed': ...      26            -1   \n",
       "4   [{'layer': '950mb', 'direction': 90, 'speed': ...      27            -1   \n",
       "..                                                ...     ...           ...   \n",
       "59  [{'layer': '950mb', 'direction': 20, 'speed': ...       9            15   \n",
       "60  [{'layer': '950mb', 'direction': 5, 'speed': 5...       9            10   \n",
       "61  [{'layer': '950mb', 'direction': 355, 'speed':...       8            15   \n",
       "62  [{'layer': '950mb', 'direction': 335, 'speed':...       8            15   \n",
       "63  [{'layer': '950mb', 'direction': 320, 'speed':...       9            15   \n",
       "\n",
       "    rh2m  msl_pressure prec_type  prec_amount  snow_depth wind10m.direction  \\\n",
       "0     11          1012      none            1           0               100   \n",
       "1     11          1013      none            1           0               100   \n",
       "2     11          1013      none            1           0                95   \n",
       "3     11          1012      none            1           0               100   \n",
       "4     11          1013      none            1           0               100   \n",
       "..   ...           ...       ...          ...         ...               ...   \n",
       "59    13          1005      rain            4           0                20   \n",
       "60    11          1006      none            4           0                 5   \n",
       "61    11          1007      none            4           0               350   \n",
       "62    10          1009      rain            4           0               335   \n",
       "63    10          1009      rain            4           0               320   \n",
       "\n",
       "    wind10m.speed              pais  \n",
       "0               3               USA  \n",
       "1               4               USA  \n",
       "2               3               USA  \n",
       "3               3               USA  \n",
       "4               3               USA  \n",
       "..            ...               ...  \n",
       "59              5  Papua New Guinea  \n",
       "60              5  Papua New Guinea  \n",
       "61              5  Papua New Guinea  \n",
       "62              4  Papua New Guinea  \n",
       "63              4  Papua New Guinea  \n",
       "\n",
       "[320 rows x 17 columns]"
      ]
     },
     "execution_count": 21,
     "metadata": {},
     "output_type": "execute_result"
    }
   ],
   "source": [
    "df"
   ]
  },
  {
   "cell_type": "markdown",
   "metadata": {},
   "source": [
    "<font color = 'orange'>Guardamos el df en un csv para utilizarlo mañana."
   ]
  },
  {
   "cell_type": "code",
   "execution_count": 22,
   "metadata": {},
   "outputs": [],
   "source": [
    "df.to_csv('etl_1.csv')"
   ]
  }
 ],
 "metadata": {
  "interpreter": {
   "hash": "9df72549cec875d35faaa50875d444b10c11452b268975a17c9dc6870f43870f"
  },
  "kernelspec": {
   "display_name": "Python 3.9.7 ('base')",
   "language": "python",
   "name": "python3"
  },
  "language_info": {
   "codemirror_mode": {
    "name": "ipython",
    "version": 3
   },
   "file_extension": ".py",
   "mimetype": "text/x-python",
   "name": "python",
   "nbconvert_exporter": "python",
   "pygments_lexer": "ipython3",
   "version": "3.9.7"
  },
  "orig_nbformat": 4
 },
 "nbformat": 4,
 "nbformat_minor": 2
}
