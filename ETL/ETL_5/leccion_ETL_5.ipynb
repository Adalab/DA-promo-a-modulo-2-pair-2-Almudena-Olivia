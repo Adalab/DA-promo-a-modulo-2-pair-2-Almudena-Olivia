{
 "cells": [
  {
   "cell_type": "markdown",
   "id": "f0fdaa4c",
   "metadata": {
    "toc": true
   },
   "source": [
    "<h1>Table of Contents<span class=\"tocSkip\"></span></h1>\n",
    "<div class=\"toc\"><ul class=\"toc-item\"><li><span><a href=\"#Creación-de-la-Clase\" data-toc-modified-id=\"Creación-de-la-Clase-1\"><span class=\"toc-item-num\">1&nbsp;&nbsp;</span>Creación de la Clase</a></span><ul class=\"toc-item\"><li><span><a href=\"#Definición-de-las-variables\" data-toc-modified-id=\"Definición-de-las-variables-1.1\"><span class=\"toc-item-num\">1.1&nbsp;&nbsp;</span>Definición de las variables</a></span><ul class=\"toc-item\"><li><span><a href=\"#Queries-de-las-tablas\" data-toc-modified-id=\"Queries-de-las-tablas-1.1.1\"><span class=\"toc-item-num\">1.1.1&nbsp;&nbsp;</span><em>Queries</em> de las tablas</a></span></li></ul></li><li><span><a href=\"#Llamamos-a-la-Clase\" data-toc-modified-id=\"Llamamos-a-la-Clase-1.2\"><span class=\"toc-item-num\">1.2&nbsp;&nbsp;</span>Llamamos a la Clase</a></span><ul class=\"toc-item\"><li><span><a href=\"#Creamos-la-BBDD\" data-toc-modified-id=\"Creamos-la-BBDD-1.2.1\"><span class=\"toc-item-num\">1.2.1&nbsp;&nbsp;</span>Creamos la BBDD</a></span></li><li><span><a href=\"#Creamos-las-tablas\" data-toc-modified-id=\"Creamos-las-tablas-1.2.2\"><span class=\"toc-item-num\">1.2.2&nbsp;&nbsp;</span>Creamos las tablas</a></span></li><li><span><a href=\"#Insertamos-los-datos\" data-toc-modified-id=\"Insertamos-los-datos-1.2.3\"><span class=\"toc-item-num\">1.2.3&nbsp;&nbsp;</span>Insertamos los datos</a></span></li></ul></li></ul></li></ul></div>"
   ]
  },
  {
   "cell_type": "markdown",
   "id": "22d7b2c3",
   "metadata": {},
   "source": [
    "En este jupyter vamos a hacer lo mismo que en el anterior, pero en este caso lo haremos definiendo una clase que nos permita hacer todo el proceso de creación e insercción de datos en la BBDD. "
   ]
  },
  {
   "cell_type": "code",
   "execution_count": 1,
   "id": "b11052ae",
   "metadata": {},
   "outputs": [],
   "source": [
    "import pandas as pd\n",
    "import mysql.connector"
   ]
  },
  {
   "cell_type": "code",
   "execution_count": 2,
   "id": "852f787a",
   "metadata": {},
   "outputs": [
    {
     "data": {
      "text/html": [
       "<div>\n",
       "<style scoped>\n",
       "    .dataframe tbody tr th:only-of-type {\n",
       "        vertical-align: middle;\n",
       "    }\n",
       "\n",
       "    .dataframe tbody tr th {\n",
       "        vertical-align: top;\n",
       "    }\n",
       "\n",
       "    .dataframe thead th {\n",
       "        text-align: right;\n",
       "    }\n",
       "</style>\n",
       "<table border=\"1\" class=\"dataframe\">\n",
       "  <thead>\n",
       "    <tr style=\"text-align: right;\">\n",
       "      <th></th>\n",
       "      <th>timepoint</th>\n",
       "      <th>cloudcover</th>\n",
       "      <th>lifted_index</th>\n",
       "      <th>prec_type</th>\n",
       "      <th>prec_amount</th>\n",
       "      <th>temp2m</th>\n",
       "      <th>rh2m</th>\n",
       "      <th>weather</th>\n",
       "      <th>wind10m.direction</th>\n",
       "      <th>wind10m.speed</th>\n",
       "      <th>fecha</th>\n",
       "      <th>latitud</th>\n",
       "      <th>longitud</th>\n",
       "      <th>ciudad</th>\n",
       "      <th>seeing</th>\n",
       "      <th>transparency</th>\n",
       "    </tr>\n",
       "  </thead>\n",
       "  <tbody>\n",
       "    <tr>\n",
       "      <th>0</th>\n",
       "      <td>3</td>\n",
       "      <td>9</td>\n",
       "      <td>6</td>\n",
       "      <td>none</td>\n",
       "      <td>0</td>\n",
       "      <td>10</td>\n",
       "      <td>65</td>\n",
       "      <td>cloudynight</td>\n",
       "      <td>N</td>\n",
       "      <td>2</td>\n",
       "      <td>2022-03-16</td>\n",
       "      <td>40.4165</td>\n",
       "      <td>-3.70256</td>\n",
       "      <td>Madrid</td>\n",
       "      <td>2.458333</td>\n",
       "      <td>7.0</td>\n",
       "    </tr>\n",
       "    <tr>\n",
       "      <th>1</th>\n",
       "      <td>6</td>\n",
       "      <td>9</td>\n",
       "      <td>6</td>\n",
       "      <td>none</td>\n",
       "      <td>1</td>\n",
       "      <td>10</td>\n",
       "      <td>70</td>\n",
       "      <td>cloudynight</td>\n",
       "      <td>N</td>\n",
       "      <td>3</td>\n",
       "      <td>2022-03-16</td>\n",
       "      <td>40.4165</td>\n",
       "      <td>-3.70256</td>\n",
       "      <td>Madrid</td>\n",
       "      <td>2.458333</td>\n",
       "      <td>7.0</td>\n",
       "    </tr>\n",
       "  </tbody>\n",
       "</table>\n",
       "</div>"
      ],
      "text/plain": [
       "   timepoint  cloudcover  lifted_index prec_type  prec_amount  temp2m rh2m  \\\n",
       "0          3           9             6      none            0      10   65   \n",
       "1          6           9             6      none            1      10   70   \n",
       "\n",
       "       weather wind10m.direction  wind10m.speed      fecha  latitud  longitud  \\\n",
       "0  cloudynight                 N              2 2022-03-16  40.4165  -3.70256   \n",
       "1  cloudynight                 N              3 2022-03-16  40.4165  -3.70256   \n",
       "\n",
       "   ciudad    seeing  transparency  \n",
       "0  Madrid  2.458333           7.0  \n",
       "1  Madrid  2.458333           7.0  "
      ]
     },
     "execution_count": 2,
     "metadata": {},
     "output_type": "execute_result"
    }
   ],
   "source": [
    "# importamos el dataframe\n",
    "\n",
    "df = pd.read_pickle('datos_actualizados.pkl')\n",
    "df.head(2)"
   ]
  },
  {
   "cell_type": "markdown",
   "id": "7f8ee1a4",
   "metadata": {},
   "source": [
    "# Creación de la Clase"
   ]
  },
  {
   "cell_type": "code",
   "execution_count": 3,
   "id": "6364e8d3",
   "metadata": {},
   "outputs": [],
   "source": [
    "class Cargar:\n",
    "    \n",
    "    def __init__(self, nombre_bbdd, contraseña):\n",
    "        # nuestra clase va a recibir dos parámetros que son fijos a lo largo de toda la BBDD, el nombre de la BBDD y la contraseña con el servidor. \n",
    "        self.nombre_bbdd = nombre_bbdd\n",
    "        self.contraseña = contraseña\n",
    "\n",
    "    # método para crear la BBDD \n",
    "    def crear_bbdd(self):\n",
    "\n",
    "        mydb = mysql.connector.connect(host=\"localhost\",\n",
    "                                       user=\"root\",\n",
    "                                       password=f'{self.contraseña}') \n",
    "        mycursor = mydb.cursor()\n",
    "        print(\"Conexión realizada con éxito\")\n",
    "\n",
    "        try:\n",
    "            mycursor.execute(f\"CREATE DATABASE IF NOT EXISTS {self.nombre_bbdd};\")\n",
    "            \n",
    "        except:\n",
    "            print(\"La BBDD ya existe\")\n",
    "            \n",
    "    # método para crear tablas  e insertar datos en ellas   \n",
    "    def crear_insertar_tabla(self, query):\n",
    "        \n",
    "        mydb = mysql.connector.connect(host=\"localhost\",\n",
    "                                       user=\"root\",\n",
    "                                       password=f'{self.contraseña}', \n",
    "                                       database=f\"{self.nombre_bbdd}\") \n",
    "        mycursor = mydb.cursor()\n",
    "        \n",
    "        try:\n",
    "            mycursor.execute(query)\n",
    "            mydb.commit()\n",
    "          \n",
    "        except mysql.connector.Error as err:\n",
    "            print(err)\n",
    "            print(\"Error Code:\", err.errno)\n",
    "            print(\"SQLSTATE\", err.sqlstate)\n",
    "            print(\"Message\", err.msg)\n",
    "            \n",
    "\n",
    "    # método para comprobar si la ciudad que estamos intentando meter ya existe en la BBDD. \n",
    "    # En caso de que ya exista no será necesario que la insertemos de nuevo\n",
    "    def check_ciudades(self):\n",
    "    \n",
    "        mydb = mysql.connector.connect(user='root',\n",
    "                                      password=f\"{self.contraseña}\",\n",
    "                                      host='127.0.0.1',\n",
    "                                      database=f\"{self.nombre_bbdd}\")\n",
    "        mycursor = mydb.cursor()\n",
    "\n",
    "        # query para extraer los valores únicos de ciudades de la tabla de localidades \n",
    "        query_existe_ciudad = f\"\"\"\n",
    "                SELECT DISTINCT ciudad FROM localidades\n",
    "                \"\"\"\n",
    "        mycursor.execute(query_existe_ciudad)\n",
    "        ciudades = mycursor.fetchall()\n",
    "        return ciudades\n",
    "    \n",
    "    # método para sacar el id de una ciudad en concreto \n",
    "    def sacar_id_ciudad(self, ciudad):\n",
    "        \n",
    "        mydb = mysql.connector.connect(user='root',\n",
    "                                       password= f'{self.contraseña}',\n",
    "                                       host='127.0.0.1', \n",
    "                                       database=f\"{self.nombre_bbdd}\")\n",
    "        mycursor = mydb.cursor()\n",
    "        \n",
    "        try:\n",
    "            query_sacar_id = f\"SELECT idlocalidad FROM localidades WHERE ciudad = '{ciudad}'\"\n",
    "            mycursor.execute(query_sacar_id)\n",
    "            id_ = mycursor.fetchall()[0][0]\n",
    "            return id_\n",
    "        \n",
    "        except: \n",
    "            return \"Sorry, no tenemos esa ciudad en la BBDD y por lo tanto no te podemos dar su id. \"\n",
    "     \n",
    "    \n",
    "    def sacar_id_fecha(self, timepoint, fecha):\n",
    "        mydb = mysql.connector.connect(user='root', password=f'{self.contraseña}',\n",
    "                                          host='127.0.0.1', database=f\"{self.nombre_bbdd}\")\n",
    "        mycursor = mydb.cursor()\n",
    "\n",
    "        try:\n",
    "            query_sacar_id = f\"SELECT idtiempo FROM tiempo WHERE timepoint = {timepoint} and fecha = '{fecha}'\"\n",
    "            mycursor.execute(query_sacar_id)\n",
    "            id_ = mycursor.fetchall()[0][0]\n",
    "            return id_\n",
    "        \n",
    "        except: \n",
    "             return \"Sorry, no tenemos esa fecha en la BBDD y por lo tanto no te podemos dar su id. \"\n",
    "            "
   ]
  },
  {
   "cell_type": "markdown",
   "id": "63cf2138",
   "metadata": {},
   "source": [
    "## Definición de las variables "
   ]
  },
  {
   "cell_type": "markdown",
   "id": "0726b458",
   "metadata": {},
   "source": [
    "###  *Queries* de las tablas"
   ]
  },
  {
   "cell_type": "code",
   "execution_count": 4,
   "id": "3261a750",
   "metadata": {},
   "outputs": [],
   "source": [
    "tabla_tiempo = '''\n",
    "CREATE TABLE IF NOT EXISTS `clima2`.`tiempo` (\n",
    "  `idtiempo` INT NOT NULL AUTO_INCREMENT,\n",
    "  `timepoint`INT NOT NULL,\n",
    "  `fecha` DATE NOT NULL,\n",
    "  PRIMARY KEY (`idtiempo`))\n",
    "ENGINE = InnoDB;\n",
    "'''\n",
    "\n",
    "tabla_localidades = '''\n",
    "CREATE TABLE IF NOT EXISTS `clima2`.`localidades` (\n",
    "  `idlocalidad` INT NOT NULL AUTO_INCREMENT,\n",
    "  `latitud` DECIMAL(6,4) NOT NULL,\n",
    "  `longitud` DECIMAL(6,4) NOT NULL,\n",
    "  `ciudad` VARCHAR(45) NOT NULL,\n",
    "  PRIMARY KEY (`idlocalidad`))\n",
    "ENGINE = InnoDB;\n",
    "'''\n",
    "\n",
    "tabla_mediciones = '''\n",
    "CREATE TABLE IF NOT EXISTS `clima2`.`mediciones` (\n",
    "  `idmedicion` INT NOT NULL AUTO_INCREMENT,\n",
    "  `cloudcover` INT NOT NULL,\n",
    "  `lifted_index` INT NOT NULL,\n",
    "  `prec_type` VARCHAR(10) NOT NULL,\n",
    "  `prec_amount` INT NOT NULL,\n",
    "  `temp2m` INT NOT NULL,\n",
    "  `rh2m` INT NOT NULL,\n",
    "  `weather` VARCHAR(15) NOT NULL,\n",
    "  `wind_direction` VARCHAR(15) NOT NULL,\n",
    "  `wind_speed` INT NOT NULL,\n",
    "  `seeing` DECIMAL NOT NULL,\n",
    "  `transparency` INT NOT NULL,\n",
    "  `idtiempo` INT NOT NULL,\n",
    "  `idlocalidad` INT NOT NULL,\n",
    "  PRIMARY KEY ( `idmedicion`, `idtiempo`, `idlocalidad`),\n",
    "  INDEX `fk_mediciones_tiempo1_idx` (`idtiempo` ASC) ,\n",
    "  INDEX `fk_mediciones_localidades1_idx` (`idlocalidad` ASC) ,\n",
    "  CONSTRAINT `fk_mediciones_tiempo1`\n",
    "    FOREIGN KEY (`idtiempo`)\n",
    "    REFERENCES `clima2`.`tiempo` (`idtiempo`),\n",
    "  CONSTRAINT `fk_mediciones_localidades1`\n",
    "    FOREIGN KEY (`idlocalidad`)\n",
    "    REFERENCES `clima2`.`localidades` (`idlocalidad`))\n",
    "ENGINE = InnoDB;\n",
    "\n",
    "'''"
   ]
  },
  {
   "cell_type": "markdown",
   "id": "694b7682",
   "metadata": {},
   "source": [
    "## Llamamos a la Clase"
   ]
  },
  {
   "cell_type": "code",
   "execution_count": 5,
   "id": "b8ce127f",
   "metadata": {},
   "outputs": [],
   "source": [
    "carga = Cargar(\"clima2\", \"admin\")"
   ]
  },
  {
   "cell_type": "code",
   "execution_count": 6,
   "id": "27462ca4",
   "metadata": {},
   "outputs": [
    {
     "data": {
      "text/plain": [
       "<__main__.Cargar at 0x22bec8f8430>"
      ]
     },
     "execution_count": 6,
     "metadata": {},
     "output_type": "execute_result"
    }
   ],
   "source": [
    "carga"
   ]
  },
  {
   "cell_type": "markdown",
   "id": "5843aa8c",
   "metadata": {},
   "source": [
    "### Creamos la BBDD "
   ]
  },
  {
   "cell_type": "code",
   "execution_count": 7,
   "id": "2dcfcdde",
   "metadata": {},
   "outputs": [
    {
     "name": "stdout",
     "output_type": "stream",
     "text": [
      "Conexión realizada con éxito\n"
     ]
    }
   ],
   "source": [
    "carga.crear_bbdd()"
   ]
  },
  {
   "cell_type": "markdown",
   "id": "d0780f6e",
   "metadata": {},
   "source": [
    "### Creamos las tablas "
   ]
  },
  {
   "cell_type": "code",
   "execution_count": 8,
   "id": "c542fd7b",
   "metadata": {},
   "outputs": [],
   "source": [
    "carga.crear_insertar_tabla(tabla_tiempo)\n",
    "carga.crear_insertar_tabla(tabla_localidades)\n",
    "carga.crear_insertar_tabla(tabla_mediciones)"
   ]
  },
  {
   "cell_type": "markdown",
   "id": "72d4b37d",
   "metadata": {},
   "source": [
    "### Insertamos los datos"
   ]
  },
  {
   "cell_type": "markdown",
   "id": "4c812a97",
   "metadata": {},
   "source": [
    "📌 Dado que nuestra BBDD de datos esta vacía las funciones de sacar id y fecha nos debe devolver que no encuentra los ids"
   ]
  },
  {
   "cell_type": "code",
   "execution_count": 9,
   "id": "a0991daa",
   "metadata": {},
   "outputs": [
    {
     "data": {
      "text/plain": [
       "'Sorry, no tenemos esa ciudad en la BBDD y por lo tanto no te podemos dar su id. '"
      ]
     },
     "execution_count": 9,
     "metadata": {},
     "output_type": "execute_result"
    }
   ],
   "source": [
    "id_ciudad = carga.sacar_id_ciudad(\"Madrid\")\n",
    "id_ciudad"
   ]
  },
  {
   "cell_type": "code",
   "execution_count": 10,
   "id": "500ad08c",
   "metadata": {},
   "outputs": [
    {
     "data": {
      "text/plain": [
       "'Sorry, no tenemos esa fecha en la BBDD y por lo tanto no te podemos dar su id. '"
      ]
     },
     "execution_count": 10,
     "metadata": {},
     "output_type": "execute_result"
    }
   ],
   "source": [
    "id_fecha = carga.sacar_id_fecha(3, \"2022-03-16\")\n",
    "id_fecha"
   ]
  },
  {
   "cell_type": "code",
   "execution_count": 11,
   "id": "290d7427",
   "metadata": {},
   "outputs": [],
   "source": [
    "# tabla tiempo\n",
    "\n",
    "for indice, fila in df.iterrows(): \n",
    "    \n",
    "    query_tiempo = f\"\"\"\n",
    "            INSERT INTO tiempo (timepoint, fecha) # como la primary key la hemos puesto como autoincremental no hace falta introducirla en el insert\n",
    "            VALUES ( \"{fila[\"timepoint\"]}\", \"{fila['fecha']}\");\n",
    "            \"\"\"\n",
    "    carga.crear_insertar_tabla(query_tiempo)"
   ]
  },
  {
   "cell_type": "code",
   "execution_count": 15,
   "id": "ed1e8ce2",
   "metadata": {
    "scrolled": false
   },
   "outputs": [
    {
     "name": "stdout",
     "output_type": "stream",
     "text": [
      "Madrid ya esta en nuestra BBDD\n",
      "Madrid ya esta en nuestra BBDD\n",
      "Madrid ya esta en nuestra BBDD\n",
      "Madrid ya esta en nuestra BBDD\n",
      "Madrid ya esta en nuestra BBDD\n",
      "Madrid ya esta en nuestra BBDD\n",
      "Madrid ya esta en nuestra BBDD\n",
      "Madrid ya esta en nuestra BBDD\n",
      "Madrid ya esta en nuestra BBDD\n",
      "Madrid ya esta en nuestra BBDD\n",
      "Madrid ya esta en nuestra BBDD\n",
      "Madrid ya esta en nuestra BBDD\n",
      "Madrid ya esta en nuestra BBDD\n",
      "Madrid ya esta en nuestra BBDD\n",
      "Madrid ya esta en nuestra BBDD\n",
      "Madrid ya esta en nuestra BBDD\n",
      "Madrid ya esta en nuestra BBDD\n",
      "Madrid ya esta en nuestra BBDD\n",
      "Madrid ya esta en nuestra BBDD\n",
      "Madrid ya esta en nuestra BBDD\n",
      "Madrid ya esta en nuestra BBDD\n",
      "Madrid ya esta en nuestra BBDD\n",
      "Madrid ya esta en nuestra BBDD\n",
      "Madrid ya esta en nuestra BBDD\n",
      "Madrid ya esta en nuestra BBDD\n",
      "Madrid ya esta en nuestra BBDD\n",
      "Madrid ya esta en nuestra BBDD\n",
      "Madrid ya esta en nuestra BBDD\n",
      "Madrid ya esta en nuestra BBDD\n",
      "Madrid ya esta en nuestra BBDD\n",
      "Madrid ya esta en nuestra BBDD\n",
      "Madrid ya esta en nuestra BBDD\n",
      "Madrid ya esta en nuestra BBDD\n",
      "Madrid ya esta en nuestra BBDD\n",
      "Madrid ya esta en nuestra BBDD\n",
      "Madrid ya esta en nuestra BBDD\n",
      "Madrid ya esta en nuestra BBDD\n",
      "Madrid ya esta en nuestra BBDD\n",
      "Madrid ya esta en nuestra BBDD\n",
      "Madrid ya esta en nuestra BBDD\n",
      "Madrid ya esta en nuestra BBDD\n",
      "Madrid ya esta en nuestra BBDD\n",
      "Madrid ya esta en nuestra BBDD\n",
      "Madrid ya esta en nuestra BBDD\n",
      "Madrid ya esta en nuestra BBDD\n",
      "Madrid ya esta en nuestra BBDD\n",
      "Madrid ya esta en nuestra BBDD\n",
      "Madrid ya esta en nuestra BBDD\n",
      "Madrid ya esta en nuestra BBDD\n",
      "Madrid ya esta en nuestra BBDD\n",
      "Madrid ya esta en nuestra BBDD\n",
      "Madrid ya esta en nuestra BBDD\n",
      "Madrid ya esta en nuestra BBDD\n",
      "Madrid ya esta en nuestra BBDD\n",
      "Madrid ya esta en nuestra BBDD\n",
      "Madrid ya esta en nuestra BBDD\n",
      "Madrid ya esta en nuestra BBDD\n",
      "Madrid ya esta en nuestra BBDD\n",
      "Madrid ya esta en nuestra BBDD\n",
      "Madrid ya esta en nuestra BBDD\n",
      "Madrid ya esta en nuestra BBDD\n",
      "Madrid ya esta en nuestra BBDD\n",
      "Madrid ya esta en nuestra BBDD\n",
      "Madrid ya esta en nuestra BBDD\n",
      "Madrid ya esta en nuestra BBDD\n",
      "Madrid ya esta en nuestra BBDD\n",
      "Madrid ya esta en nuestra BBDD\n",
      "Madrid ya esta en nuestra BBDD\n",
      "Madrid ya esta en nuestra BBDD\n",
      "Madrid ya esta en nuestra BBDD\n",
      "Madrid ya esta en nuestra BBDD\n",
      "Madrid ya esta en nuestra BBDD\n",
      "Madrid ya esta en nuestra BBDD\n",
      "Madrid ya esta en nuestra BBDD\n",
      "Madrid ya esta en nuestra BBDD\n",
      "Madrid ya esta en nuestra BBDD\n",
      "Madrid ya esta en nuestra BBDD\n",
      "Madrid ya esta en nuestra BBDD\n",
      "Madrid ya esta en nuestra BBDD\n",
      "Madrid ya esta en nuestra BBDD\n",
      "Madrid ya esta en nuestra BBDD\n",
      "Madrid ya esta en nuestra BBDD\n",
      "Madrid ya esta en nuestra BBDD\n",
      "Madrid ya esta en nuestra BBDD\n",
      "Madrid ya esta en nuestra BBDD\n",
      "Madrid ya esta en nuestra BBDD\n",
      "Madrid ya esta en nuestra BBDD\n",
      "Madrid ya esta en nuestra BBDD\n",
      "Madrid ya esta en nuestra BBDD\n",
      "Madrid ya esta en nuestra BBDD\n",
      "Madrid ya esta en nuestra BBDD\n",
      "Madrid ya esta en nuestra BBDD\n",
      "Madrid ya esta en nuestra BBDD\n",
      "Madrid ya esta en nuestra BBDD\n",
      "Madrid ya esta en nuestra BBDD\n",
      "Madrid ya esta en nuestra BBDD\n",
      "Madrid ya esta en nuestra BBDD\n",
      "Madrid ya esta en nuestra BBDD\n",
      "Madrid ya esta en nuestra BBDD\n",
      "Madrid ya esta en nuestra BBDD\n",
      "Madrid ya esta en nuestra BBDD\n",
      "Madrid ya esta en nuestra BBDD\n",
      "Madrid ya esta en nuestra BBDD\n",
      "Madrid ya esta en nuestra BBDD\n",
      "Madrid ya esta en nuestra BBDD\n",
      "Madrid ya esta en nuestra BBDD\n",
      "Madrid ya esta en nuestra BBDD\n",
      "Madrid ya esta en nuestra BBDD\n",
      "Madrid ya esta en nuestra BBDD\n",
      "Madrid ya esta en nuestra BBDD\n",
      "Madrid ya esta en nuestra BBDD\n",
      "Madrid ya esta en nuestra BBDD\n",
      "Madrid ya esta en nuestra BBDD\n",
      "Madrid ya esta en nuestra BBDD\n",
      "Madrid ya esta en nuestra BBDD\n",
      "Madrid ya esta en nuestra BBDD\n",
      "Madrid ya esta en nuestra BBDD\n",
      "Madrid ya esta en nuestra BBDD\n",
      "Madrid ya esta en nuestra BBDD\n",
      "Madrid ya esta en nuestra BBDD\n",
      "Madrid ya esta en nuestra BBDD\n",
      "Madrid ya esta en nuestra BBDD\n",
      "Madrid ya esta en nuestra BBDD\n",
      "Madrid ya esta en nuestra BBDD\n",
      "Madrid ya esta en nuestra BBDD\n",
      "Madrid ya esta en nuestra BBDD\n",
      "Madrid ya esta en nuestra BBDD\n"
     ]
    }
   ],
   "source": [
    "# tabla localidades\n",
    "\n",
    "for indice, fila in df.iterrows():\n",
    "    \n",
    "    # creamos la query que no inserta datos en la tabla localidades\n",
    "    query_localidad = f\"\"\"\n",
    "                INSERT INTO localidades (latitud, longitud, ciudad) \n",
    "                VALUES ( \"{fila[\"latitud\"]}\", \"{fila['longitud']}\", \"{fila['ciudad']}\");\n",
    "                \"\"\"\n",
    "    # llamamos a la funcion check_ciudades para saber que ciudades tenemos en la BBDD\n",
    "    ciudades = carga.check_ciudades()\n",
    "    \n",
    "    # Si la BBDD de datos esta vacía,  podemos insertar la ciudad. \n",
    "    # \n",
    "    if len(ciudades) == 0 or fila['ciudad'] not in ciudades[0]: \n",
    "        carga.crear_insertar_tabla( query_localidad)\n",
    "\n",
    "    else:\n",
    "        print(f\"{fila['ciudad']} ya esta en nuestra BBDD\")"
   ]
  },
  {
   "cell_type": "code",
   "execution_count": 16,
   "id": "792036a7",
   "metadata": {},
   "outputs": [],
   "source": [
    "# tabla mediciones\n",
    "\n",
    "for indice, fila in df.iterrows():\n",
    "    \n",
    "    id_ciudad = carga.sacar_id_ciudad(fila['ciudad'])\n",
    "    id_fecha = carga.sacar_id_fecha( fila[\"timepoint\"], fila[\"fecha\"])\n",
    "    \n",
    "    query_medidas = f\"\"\"\n",
    "                INSERT INTO mediciones (cloudcover, lifted_index, prec_type, prec_amount, temp2m, rh2m, weather, wind_direction, wind_speed, seeing, transparency, idtiempo, idlocalidad) \n",
    "                VALUES ({fila[\"cloudcover\"]}, {fila['lifted_index']}, \"{fila['prec_type']}\", {fila['prec_amount']},{fila['temp2m']},{fila['rh2m']}, \"{fila['weather']}\",\"{fila['wind10m.direction']}\",{fila['wind10m.speed']}, {fila['seeing']}, {fila['transparency']}, {id_fecha}, {id_ciudad});\n",
    "                \"\"\"\n",
    "    carga.crear_insertar_tabla( query_medidas)\n",
    "    "
   ]
  },
  {
   "cell_type": "markdown",
   "id": "7097c7d9",
   "metadata": {},
   "source": [
    "Y voilá! Ya tenemos nuestros datos en nuestra BBDD listos para que queden guardados para siempre!!!! 😀"
   ]
  },
  {
   "cell_type": "code",
   "execution_count": null,
   "id": "48c5090a",
   "metadata": {},
   "outputs": [],
   "source": []
  }
 ],
 "metadata": {
  "kernelspec": {
   "display_name": "Python 3 (ipykernel)",
   "language": "python",
   "name": "python3"
  },
  "language_info": {
   "codemirror_mode": {
    "name": "ipython",
    "version": 3
   },
   "file_extension": ".py",
   "mimetype": "text/x-python",
   "name": "python",
   "nbconvert_exporter": "python",
   "pygments_lexer": "ipython3",
   "version": "3.10.2"
  },
  "toc": {
   "base_numbering": 1,
   "nav_menu": {},
   "number_sections": true,
   "sideBar": true,
   "skip_h1_title": false,
   "title_cell": "Table of Contents",
   "title_sidebar": "Contents",
   "toc_cell": true,
   "toc_position": {
    "height": "calc(100% - 180px)",
    "left": "10px",
    "top": "150px",
    "width": "288px"
   },
   "toc_section_display": true,
   "toc_window_display": false
  }
 },
 "nbformat": 4,
 "nbformat_minor": 5
}
